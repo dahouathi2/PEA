{
 "cells": [
  {
   "cell_type": "code",
   "execution_count": 1,
   "metadata": {},
   "outputs": [],
   "source": [
    "import pandas as pd\n",
    "from torch.utils.data import Dataset\n",
    "import numpy as np\n",
    "import os"
   ]
  },
  {
   "cell_type": "code",
   "execution_count": 2,
   "metadata": {},
   "outputs": [],
   "source": [
    "data = pd.read_csv(\"dataset/true_promo/all_product_true_promo_train.csv\")"
   ]
  },
  {
   "cell_type": "code",
   "execution_count": 3,
   "metadata": {},
   "outputs": [
    {
     "data": {
      "text/html": [
       "<div>\n",
       "<style scoped>\n",
       "    .dataframe tbody tr th:only-of-type {\n",
       "        vertical-align: middle;\n",
       "    }\n",
       "\n",
       "    .dataframe tbody tr th {\n",
       "        vertical-align: top;\n",
       "    }\n",
       "\n",
       "    .dataframe thead th {\n",
       "        text-align: right;\n",
       "    }\n",
       "</style>\n",
       "<table border=\"1\" class=\"dataframe\">\n",
       "  <thead>\n",
       "    <tr style=\"text-align: right;\">\n",
       "      <th></th>\n",
       "      <th>end_date</th>\n",
       "      <th>ean_global_channel</th>\n",
       "      <th>is_promo</th>\n",
       "      <th>price_range</th>\n",
       "      <th>sub_axis</th>\n",
       "      <th>seasonality_index</th>\n",
       "      <th>sold_units</th>\n",
       "      <th>2 for a price</th>\n",
       "      <th>3 for 2</th>\n",
       "      <th>bogof</th>\n",
       "      <th>bogshp</th>\n",
       "      <th>coupon</th>\n",
       "      <th>listing fee</th>\n",
       "      <th>online</th>\n",
       "      <th>save</th>\n",
       "      <th>site fee</th>\n",
       "      <th>year</th>\n",
       "      <th>month</th>\n",
       "      <th>week</th>\n",
       "    </tr>\n",
       "  </thead>\n",
       "  <tbody>\n",
       "    <tr>\n",
       "      <th>0</th>\n",
       "      <td>2022-10-08</td>\n",
       "      <td>30074576_Offline</td>\n",
       "      <td>True</td>\n",
       "      <td>8.6</td>\n",
       "      <td>Eye Makeup</td>\n",
       "      <td>0.954407</td>\n",
       "      <td>372.0</td>\n",
       "      <td>0</td>\n",
       "      <td>0</td>\n",
       "      <td>0</td>\n",
       "      <td>0</td>\n",
       "      <td>0</td>\n",
       "      <td>0</td>\n",
       "      <td>1</td>\n",
       "      <td>1</td>\n",
       "      <td>1</td>\n",
       "      <td>2022</td>\n",
       "      <td>10</td>\n",
       "      <td>40</td>\n",
       "    </tr>\n",
       "    <tr>\n",
       "      <th>1</th>\n",
       "      <td>2022-10-15</td>\n",
       "      <td>30074576_Offline</td>\n",
       "      <td>True</td>\n",
       "      <td>8.6</td>\n",
       "      <td>Eye Makeup</td>\n",
       "      <td>0.986968</td>\n",
       "      <td>355.0</td>\n",
       "      <td>0</td>\n",
       "      <td>0</td>\n",
       "      <td>0</td>\n",
       "      <td>0</td>\n",
       "      <td>0</td>\n",
       "      <td>0</td>\n",
       "      <td>1</td>\n",
       "      <td>1</td>\n",
       "      <td>1</td>\n",
       "      <td>2022</td>\n",
       "      <td>10</td>\n",
       "      <td>41</td>\n",
       "    </tr>\n",
       "  </tbody>\n",
       "</table>\n",
       "</div>"
      ],
      "text/plain": [
       "     end_date ean_global_channel  is_promo  price_range    sub_axis  \\\n",
       "0  2022-10-08   30074576_Offline      True          8.6  Eye Makeup   \n",
       "1  2022-10-15   30074576_Offline      True          8.6  Eye Makeup   \n",
       "\n",
       "   seasonality_index  sold_units  2 for a price  3 for 2  bogof  bogshp  \\\n",
       "0           0.954407       372.0              0        0      0       0   \n",
       "1           0.986968       355.0              0        0      0       0   \n",
       "\n",
       "   coupon  listing fee  online  save  site fee  year  month  week  \n",
       "0       0            0       1     1         1  2022     10    40  \n",
       "1       0            0       1     1         1  2022     10    41  "
      ]
     },
     "execution_count": 3,
     "metadata": {},
     "output_type": "execute_result"
    }
   ],
   "source": [
    "data.head(2)"
   ]
  },
  {
   "cell_type": "markdown",
   "metadata": {},
   "source": [
    "### We need a way to get one product out of this data:\n",
    "### We define id: each combination ean/global_channel is a time series"
   ]
  },
  {
   "cell_type": "code",
   "execution_count": 4,
   "metadata": {},
   "outputs": [
    {
     "data": {
      "text/plain": [
       "(1537,)"
      ]
     },
     "execution_count": 4,
     "metadata": {},
     "output_type": "execute_result"
    }
   ],
   "source": [
    "ids = data[\"ean_global_channel\"].unique()\n",
    "ids.shape"
   ]
  },
  {
   "cell_type": "code",
   "execution_count": 5,
   "metadata": {},
   "outputs": [
    {
     "data": {
      "text/html": [
       "<div>\n",
       "<style scoped>\n",
       "    .dataframe tbody tr th:only-of-type {\n",
       "        vertical-align: middle;\n",
       "    }\n",
       "\n",
       "    .dataframe tbody tr th {\n",
       "        vertical-align: top;\n",
       "    }\n",
       "\n",
       "    .dataframe thead th {\n",
       "        text-align: right;\n",
       "    }\n",
       "</style>\n",
       "<table border=\"1\" class=\"dataframe\">\n",
       "  <thead>\n",
       "    <tr style=\"text-align: right;\">\n",
       "      <th></th>\n",
       "      <th>end_date</th>\n",
       "      <th>ean_global_channel</th>\n",
       "      <th>is_promo</th>\n",
       "      <th>price_range</th>\n",
       "      <th>sub_axis</th>\n",
       "      <th>seasonality_index</th>\n",
       "      <th>sold_units</th>\n",
       "      <th>2 for a price</th>\n",
       "      <th>3 for 2</th>\n",
       "      <th>bogof</th>\n",
       "      <th>bogshp</th>\n",
       "      <th>coupon</th>\n",
       "      <th>listing fee</th>\n",
       "      <th>online</th>\n",
       "      <th>save</th>\n",
       "      <th>site fee</th>\n",
       "      <th>year</th>\n",
       "      <th>month</th>\n",
       "      <th>week</th>\n",
       "    </tr>\n",
       "  </thead>\n",
       "  <tbody>\n",
       "    <tr>\n",
       "      <th>0</th>\n",
       "      <td>2022-10-08</td>\n",
       "      <td>30074576_Offline</td>\n",
       "      <td>True</td>\n",
       "      <td>8.600000</td>\n",
       "      <td>Eye Makeup</td>\n",
       "      <td>0.954407</td>\n",
       "      <td>372.0</td>\n",
       "      <td>0</td>\n",
       "      <td>0</td>\n",
       "      <td>0</td>\n",
       "      <td>0</td>\n",
       "      <td>0</td>\n",
       "      <td>0</td>\n",
       "      <td>1</td>\n",
       "      <td>1</td>\n",
       "      <td>1</td>\n",
       "      <td>2022</td>\n",
       "      <td>10</td>\n",
       "      <td>40</td>\n",
       "    </tr>\n",
       "    <tr>\n",
       "      <th>1</th>\n",
       "      <td>2022-10-15</td>\n",
       "      <td>30074576_Offline</td>\n",
       "      <td>True</td>\n",
       "      <td>8.600000</td>\n",
       "      <td>Eye Makeup</td>\n",
       "      <td>0.986968</td>\n",
       "      <td>355.0</td>\n",
       "      <td>0</td>\n",
       "      <td>0</td>\n",
       "      <td>0</td>\n",
       "      <td>0</td>\n",
       "      <td>0</td>\n",
       "      <td>0</td>\n",
       "      <td>1</td>\n",
       "      <td>1</td>\n",
       "      <td>1</td>\n",
       "      <td>2022</td>\n",
       "      <td>10</td>\n",
       "      <td>41</td>\n",
       "    </tr>\n",
       "    <tr>\n",
       "      <th>2</th>\n",
       "      <td>2022-10-22</td>\n",
       "      <td>30074576_Offline</td>\n",
       "      <td>True</td>\n",
       "      <td>8.600000</td>\n",
       "      <td>Eye Makeup</td>\n",
       "      <td>0.971972</td>\n",
       "      <td>344.0</td>\n",
       "      <td>0</td>\n",
       "      <td>0</td>\n",
       "      <td>0</td>\n",
       "      <td>0</td>\n",
       "      <td>0</td>\n",
       "      <td>0</td>\n",
       "      <td>1</td>\n",
       "      <td>1</td>\n",
       "      <td>1</td>\n",
       "      <td>2022</td>\n",
       "      <td>10</td>\n",
       "      <td>42</td>\n",
       "    </tr>\n",
       "    <tr>\n",
       "      <th>3</th>\n",
       "      <td>2022-10-29</td>\n",
       "      <td>30074576_Offline</td>\n",
       "      <td>True</td>\n",
       "      <td>8.600000</td>\n",
       "      <td>Eye Makeup</td>\n",
       "      <td>1.051523</td>\n",
       "      <td>334.0</td>\n",
       "      <td>0</td>\n",
       "      <td>0</td>\n",
       "      <td>0</td>\n",
       "      <td>0</td>\n",
       "      <td>0</td>\n",
       "      <td>0</td>\n",
       "      <td>1</td>\n",
       "      <td>1</td>\n",
       "      <td>1</td>\n",
       "      <td>2022</td>\n",
       "      <td>10</td>\n",
       "      <td>43</td>\n",
       "    </tr>\n",
       "    <tr>\n",
       "      <th>4</th>\n",
       "      <td>2022-11-05</td>\n",
       "      <td>30074576_Offline</td>\n",
       "      <td>True</td>\n",
       "      <td>8.733333</td>\n",
       "      <td>Eye Makeup</td>\n",
       "      <td>1.057523</td>\n",
       "      <td>320.0</td>\n",
       "      <td>0</td>\n",
       "      <td>0</td>\n",
       "      <td>0</td>\n",
       "      <td>0</td>\n",
       "      <td>0</td>\n",
       "      <td>0</td>\n",
       "      <td>1</td>\n",
       "      <td>1</td>\n",
       "      <td>1</td>\n",
       "      <td>2022</td>\n",
       "      <td>11</td>\n",
       "      <td>44</td>\n",
       "    </tr>\n",
       "  </tbody>\n",
       "</table>\n",
       "</div>"
      ],
      "text/plain": [
       "     end_date ean_global_channel  is_promo  price_range    sub_axis  \\\n",
       "0  2022-10-08   30074576_Offline      True     8.600000  Eye Makeup   \n",
       "1  2022-10-15   30074576_Offline      True     8.600000  Eye Makeup   \n",
       "2  2022-10-22   30074576_Offline      True     8.600000  Eye Makeup   \n",
       "3  2022-10-29   30074576_Offline      True     8.600000  Eye Makeup   \n",
       "4  2022-11-05   30074576_Offline      True     8.733333  Eye Makeup   \n",
       "\n",
       "   seasonality_index  sold_units  2 for a price  3 for 2  bogof  bogshp  \\\n",
       "0           0.954407       372.0              0        0      0       0   \n",
       "1           0.986968       355.0              0        0      0       0   \n",
       "2           0.971972       344.0              0        0      0       0   \n",
       "3           1.051523       334.0              0        0      0       0   \n",
       "4           1.057523       320.0              0        0      0       0   \n",
       "\n",
       "   coupon  listing fee  online  save  site fee  year  month  week  \n",
       "0       0            0       1     1         1  2022     10    40  \n",
       "1       0            0       1     1         1  2022     10    41  \n",
       "2       0            0       1     1         1  2022     10    42  \n",
       "3       0            0       1     1         1  2022     10    43  \n",
       "4       0            0       1     1         1  2022     11    44  "
      ]
     },
     "execution_count": 5,
     "metadata": {},
     "output_type": "execute_result"
    }
   ],
   "source": [
    "# To get a time series it's simple now:\n",
    "data[data[\"ean_global_channel\"]==ids[0]].head()"
   ]
  },
  {
   "cell_type": "code",
   "execution_count": 6,
   "metadata": {},
   "outputs": [],
   "source": [
    "def preprocess_pipeline(data, id, target):\n",
    "    \"\"\"This function is responsible for all the preprocessing \"\"\"\n",
    "    data = data.rename(columns={'end_date':'date', id:'id'})\n",
    "    data = data.drop(['is_promo', 'sub_axis', 'year', 'month', 'week'], axis=1)\n",
    "    cols = list(data.columns)\n",
    "    cols.remove(target)\n",
    "    cols.remove('date')\n",
    "    data= data[['date'] + cols + [target]] # organize data to date, variables and last is target\n",
    "    return data"
   ]
  },
  {
   "cell_type": "code",
   "execution_count": 7,
   "metadata": {},
   "outputs": [],
   "source": [
    "df = preprocess_pipeline(data, 'ean_global_channel', 'sold_units')"
   ]
  },
  {
   "cell_type": "code",
   "execution_count": 24,
   "metadata": {},
   "outputs": [],
   "source": [
    "result = data.groupby('ean_global_channel')['end_date'].agg(['min', 'max', 'count']).reset_index().sort_values(by='count', ascending=True)"
   ]
  },
  {
   "cell_type": "code",
   "execution_count": 25,
   "metadata": {},
   "outputs": [
    {
     "data": {
      "text/html": [
       "<div>\n",
       "<style scoped>\n",
       "    .dataframe tbody tr th:only-of-type {\n",
       "        vertical-align: middle;\n",
       "    }\n",
       "\n",
       "    .dataframe tbody tr th {\n",
       "        vertical-align: top;\n",
       "    }\n",
       "\n",
       "    .dataframe thead th {\n",
       "        text-align: right;\n",
       "    }\n",
       "</style>\n",
       "<table border=\"1\" class=\"dataframe\">\n",
       "  <thead>\n",
       "    <tr style=\"text-align: right;\">\n",
       "      <th></th>\n",
       "      <th>ean_global_channel</th>\n",
       "      <th>min</th>\n",
       "      <th>max</th>\n",
       "      <th>count</th>\n",
       "    </tr>\n",
       "  </thead>\n",
       "  <tbody>\n",
       "    <tr>\n",
       "      <th>902</th>\n",
       "      <td>3600531672485_Offline</td>\n",
       "      <td>2023-04-15</td>\n",
       "      <td>2023-11-25</td>\n",
       "      <td>33</td>\n",
       "    </tr>\n",
       "    <tr>\n",
       "      <th>888</th>\n",
       "      <td>3600531672317_Offline</td>\n",
       "      <td>2023-04-15</td>\n",
       "      <td>2023-11-25</td>\n",
       "      <td>33</td>\n",
       "    </tr>\n",
       "    <tr>\n",
       "      <th>889</th>\n",
       "      <td>3600531672324_Offline</td>\n",
       "      <td>2023-04-15</td>\n",
       "      <td>2023-11-25</td>\n",
       "      <td>33</td>\n",
       "    </tr>\n",
       "    <tr>\n",
       "      <th>890</th>\n",
       "      <td>3600531672331_Offline</td>\n",
       "      <td>2023-04-15</td>\n",
       "      <td>2023-11-25</td>\n",
       "      <td>33</td>\n",
       "    </tr>\n",
       "    <tr>\n",
       "      <th>892</th>\n",
       "      <td>3600531672362_Offline</td>\n",
       "      <td>2023-04-15</td>\n",
       "      <td>2023-11-25</td>\n",
       "      <td>33</td>\n",
       "    </tr>\n",
       "    <tr>\n",
       "      <th>...</th>\n",
       "      <td>...</td>\n",
       "      <td>...</td>\n",
       "      <td>...</td>\n",
       "      <td>...</td>\n",
       "    </tr>\n",
       "    <tr>\n",
       "      <th>543</th>\n",
       "      <td>3600523999439_Offline</td>\n",
       "      <td>2022-10-08</td>\n",
       "      <td>2023-11-25</td>\n",
       "      <td>60</td>\n",
       "    </tr>\n",
       "    <tr>\n",
       "      <th>542</th>\n",
       "      <td>3600523999422_Offline</td>\n",
       "      <td>2022-10-08</td>\n",
       "      <td>2023-11-25</td>\n",
       "      <td>60</td>\n",
       "    </tr>\n",
       "    <tr>\n",
       "      <th>540</th>\n",
       "      <td>3600523993314_Offline</td>\n",
       "      <td>2022-10-08</td>\n",
       "      <td>2023-11-25</td>\n",
       "      <td>60</td>\n",
       "    </tr>\n",
       "    <tr>\n",
       "      <th>538</th>\n",
       "      <td>3600523993291_Offline</td>\n",
       "      <td>2022-10-08</td>\n",
       "      <td>2023-11-25</td>\n",
       "      <td>60</td>\n",
       "    </tr>\n",
       "    <tr>\n",
       "      <th>1536</th>\n",
       "      <td>800897849047_Offline</td>\n",
       "      <td>2022-10-08</td>\n",
       "      <td>2023-11-25</td>\n",
       "      <td>60</td>\n",
       "    </tr>\n",
       "  </tbody>\n",
       "</table>\n",
       "<p>1537 rows × 4 columns</p>\n",
       "</div>"
      ],
      "text/plain": [
       "         ean_global_channel         min         max  count\n",
       "902   3600531672485_Offline  2023-04-15  2023-11-25     33\n",
       "888   3600531672317_Offline  2023-04-15  2023-11-25     33\n",
       "889   3600531672324_Offline  2023-04-15  2023-11-25     33\n",
       "890   3600531672331_Offline  2023-04-15  2023-11-25     33\n",
       "892   3600531672362_Offline  2023-04-15  2023-11-25     33\n",
       "...                     ...         ...         ...    ...\n",
       "543   3600523999439_Offline  2022-10-08  2023-11-25     60\n",
       "542   3600523999422_Offline  2022-10-08  2023-11-25     60\n",
       "540   3600523993314_Offline  2022-10-08  2023-11-25     60\n",
       "538   3600523993291_Offline  2022-10-08  2023-11-25     60\n",
       "1536   800897849047_Offline  2022-10-08  2023-11-25     60\n",
       "\n",
       "[1537 rows x 4 columns]"
      ]
     },
     "execution_count": 25,
     "metadata": {},
     "output_type": "execute_result"
    }
   ],
   "source": [
    "result"
   ]
  },
  {
   "cell_type": "code",
   "execution_count": 8,
   "metadata": {},
   "outputs": [],
   "source": [
    "\n",
    "class Dataset_Promo_ean_global_channel(Dataset):\n",
    "    def __init__(self, root_path, flag='train', size=None,\n",
    "                 features='S', data_path='ETTh1.csv',\n",
    "                 target='sold_units', scale=False, inverse=False, timeenc=0, freq='15min',\n",
    "                 seasonal_patterns='Yearly'):\n",
    "        self.features = features\n",
    "        self.target = target\n",
    "        self.scale = scale\n",
    "        self.inverse = inverse\n",
    "        self.timeenc = timeenc\n",
    "        self.root_path = root_path\n",
    "\n",
    "        self.seq_len = size[0]\n",
    "        self.label_len = size[1]\n",
    "        self.pred_len = size[2]\n",
    "\n",
    "        self.seasonal_patterns = seasonal_patterns\n",
    "        self.history_size = 1.5\n",
    "        self.window_sampling_limit = int(self.history_size * self.pred_len)\n",
    "        self.flag = flag\n",
    "\n",
    "        self.__read_data__()\n",
    "\n",
    "    def preprocess_pipeline(self, data, id = 'ean_global_channel'):\n",
    "        \"\"\"This function is responsible for all the preprocessing \"\"\"\n",
    "        data = data.rename(columns={'end_date':'date', id:'id'})\n",
    "        data = data.drop(['is_promo', 'sub_axis', 'year', 'month', 'week'], axis=1)\n",
    "        cols = list(data.columns)\n",
    "        cols.remove(self.target)\n",
    "        cols.remove('date')\n",
    "        data= data[cols + [self.target]] # organize data to date, variables and last is target we're not using date now\n",
    "        return data\n",
    "\n",
    "    def __read_data__(self):\n",
    "        # M4Dataset.initialize()\n",
    "        if self.flag == 'train':\n",
    "            dataset = pd.read_csv(os.path.join(root_path,\n",
    "                                          data_path)) \n",
    "        else:\n",
    "            dataset = pd.read_csv(os.path.join(root_path,\n",
    "                                          data_path.replace('train', 'test')))\n",
    "        # Preprocessing dataset:\n",
    "        df = self.preprocess_pipeline(dataset)\n",
    "        self.ids = df['id'].unique()\n",
    "        self.timeseries = [df[df['id']==ids[i]].drop('id', axis=1).values for i in range(len(ids))]\n",
    "        self.n_var = self.timeseries[0].shape[1]\n",
    "    def __getitem__(self, index):\n",
    "        insample = np.zeros((self.seq_len, self.n_var))\n",
    "        insample_mask = np.zeros((self.seq_len, self.n_var))\n",
    "        outsample = np.zeros((self.pred_len + self.label_len, self.n_var))\n",
    "        outsample_mask = np.zeros((self.pred_len + self.label_len, self.n_var))  # m4 dataset\n",
    "\n",
    "        sampled_timeseries = self.timeseries[index]\n",
    "        if self.flag=='train':\n",
    "            cut_point = np.random.randint(low=self.seq_len,\n",
    "                                      high=len(sampled_timeseries)-self.pred_len+1,\n",
    "                                      size=1)[0]\n",
    "        else:\n",
    "            cut_point = np.random.randint(low=max(1, len(sampled_timeseries)- self.window_sampling_limit),\n",
    "                                      high=len(sampled_timeseries),\n",
    "                                      size=1)[0]\n",
    "        # cut_point = np.random.randint(low=self.seq_len,\n",
    "        #                               high=len(sampled_timeseries),\n",
    "        #                               size=1)[0]\n",
    "        insample_window = sampled_timeseries[max(0, cut_point - self.seq_len):cut_point]\n",
    "        insample[-len(insample_window):] = insample_window\n",
    "        insample_mask[-len(insample_window):] = 1.0\n",
    "        outsample_window = sampled_timeseries[\n",
    "                           cut_point - self.label_len:min(len(sampled_timeseries), cut_point + self.pred_len)]\n",
    "        outsample[:len(outsample_window)] = outsample_window\n",
    "        outsample_mask[:len(outsample_window)] = 1.0\n",
    "        return insample, outsample, insample_mask, outsample_mask\n",
    "\n",
    "    def __len__(self):\n",
    "        return len(self.timeseries)\n",
    "\n",
    "    def inverse_transform(self, data):\n",
    "        return self.scaler.inverse_transform(data)\n",
    "\n",
    "    def last_insample_window(self):\n",
    "        \"\"\"\n",
    "        The last window of insample size of all timeseries.\n",
    "        This function does not support batching and does not reshuffle timeseries.\n",
    "\n",
    "        :return: Last insample window of all timeseries. Shape \"timeseries, insample size\"\n",
    "        \"\"\"\n",
    "        insample = np.zeros((len(self.timeseries), self.seq_len, self.n_var))\n",
    "        insample_mask = np.zeros((len(self.timeseries), self.seq_len, self.n_var))\n",
    "        for i, ts in enumerate(self.timeseries):\n",
    "            ts_last_window = ts[-self.seq_len:]\n",
    "            insample[i, -len(ts):] = ts_last_window\n",
    "            insample_mask[i, -len(ts):] = 1.0\n",
    "        return insample, insample_mask\n",
    "\n"
   ]
  },
  {
   "cell_type": "code",
   "execution_count": null,
   "metadata": {},
   "outputs": [],
   "source": []
  },
  {
   "cell_type": "code",
   "execution_count": 18,
   "metadata": {},
   "outputs": [
    {
     "data": {
      "text/plain": [
       "46"
      ]
     },
     "execution_count": 18,
     "metadata": {},
     "output_type": "execute_result"
    }
   ],
   "source": []
  },
  {
   "cell_type": "code",
   "execution_count": 9,
   "metadata": {},
   "outputs": [],
   "source": [
    "root_path = 'dataset/true_promo/'\n",
    "data_path = 'all_product_true_promo_train.csv'\n",
    "dtrain = Dataset_Promo_ean_global_channel(root_path=root_path, data_path=data_path, target='sold_units', flag='train', size=(int(17*1.75),17,17))"
   ]
  },
  {
   "cell_type": "code",
   "execution_count": 10,
   "metadata": {},
   "outputs": [],
   "source": [
    "dtest = Dataset_Promo_ean_global_channel(root_path=root_path, data_path=data_path, target='sold_units', flag='test', size=(int(17*1.75),17,17))"
   ]
  },
  {
   "cell_type": "code",
   "execution_count": 11,
   "metadata": {},
   "outputs": [
    {
     "data": {
      "text/plain": [
       "(29, 12)"
      ]
     },
     "execution_count": 11,
     "metadata": {},
     "output_type": "execute_result"
    }
   ],
   "source": []
  },
  {
   "cell_type": "code",
   "execution_count": 12,
   "metadata": {},
   "outputs": [],
   "source": [
    "from torch.utils.data import DataLoader\n"
   ]
  },
  {
   "cell_type": "code",
   "execution_count": 13,
   "metadata": {},
   "outputs": [],
   "source": [
    "dtrain_loader = DataLoader(dtrain, batch_size=10, shuffle=False)\n",
    "dtest_loader = DataLoader(dtest, batch_size=10, shuffle=False)"
   ]
  },
  {
   "cell_type": "code",
   "execution_count": 14,
   "metadata": {},
   "outputs": [],
   "source": [
    "x, _ = dtrain_loader.dataset.last_insample_window()"
   ]
  },
  {
   "cell_type": "code",
   "execution_count": 15,
   "metadata": {},
   "outputs": [],
   "source": [
    "y = dtest_loader.dataset.timeseries"
   ]
  },
  {
   "cell_type": "code",
   "execution_count": 19,
   "metadata": {},
   "outputs": [
    {
     "name": "stdout",
     "output_type": "stream",
     "text": [
      "torch.Size([10, 29, 12])\n",
      "torch.Size([10, 29, 12])\n",
      "torch.Size([10, 29, 12])\n"
     ]
    },
    {
     "ename": "ValueError",
     "evalue": "low >= high",
     "output_type": "error",
     "traceback": [
      "\u001b[0;31m---------------------------------------------------------------------------\u001b[0m",
      "\u001b[0;31mValueError\u001b[0m                                Traceback (most recent call last)",
      "\u001b[1;32m/home/user/original/PEA/explore_data_loader.ipynb Cell 20\u001b[0m line \u001b[0;36m1\n\u001b[0;32m----> <a href='vscode-notebook-cell://80-itg-wkst-wadhah-dahouathi-ew1-pd.cluster-irmp7yabxrbcwwg3sbsvmaa5ew.cloudworkstations.dev/home/user/original/PEA/explore_data_loader.ipynb#X35sdnNjb2RlLXJlbW90ZQ%3D%3D?line=0'>1</a>\u001b[0m \u001b[39mfor\u001b[39;00m x,_,y,_ \u001b[39min\u001b[39;00m dtrain_loader:\n\u001b[1;32m      <a href='vscode-notebook-cell://80-itg-wkst-wadhah-dahouathi-ew1-pd.cluster-irmp7yabxrbcwwg3sbsvmaa5ew.cloudworkstations.dev/home/user/original/PEA/explore_data_loader.ipynb#X35sdnNjb2RlLXJlbW90ZQ%3D%3D?line=1'>2</a>\u001b[0m     \u001b[39mprint\u001b[39m(x\u001b[39m.\u001b[39mshape)\n",
      "File \u001b[0;32m~/miniconda/envs/test3/lib/python3.10/site-packages/torch/utils/data/dataloader.py:631\u001b[0m, in \u001b[0;36m_BaseDataLoaderIter.__next__\u001b[0;34m(self)\u001b[0m\n\u001b[1;32m    628\u001b[0m \u001b[39mif\u001b[39;00m \u001b[39mself\u001b[39m\u001b[39m.\u001b[39m_sampler_iter \u001b[39mis\u001b[39;00m \u001b[39mNone\u001b[39;00m:\n\u001b[1;32m    629\u001b[0m     \u001b[39m# TODO(https://github.com/pytorch/pytorch/issues/76750)\u001b[39;00m\n\u001b[1;32m    630\u001b[0m     \u001b[39mself\u001b[39m\u001b[39m.\u001b[39m_reset()  \u001b[39m# type: ignore[call-arg]\u001b[39;00m\n\u001b[0;32m--> 631\u001b[0m data \u001b[39m=\u001b[39m \u001b[39mself\u001b[39;49m\u001b[39m.\u001b[39;49m_next_data()\n\u001b[1;32m    632\u001b[0m \u001b[39mself\u001b[39m\u001b[39m.\u001b[39m_num_yielded \u001b[39m+\u001b[39m\u001b[39m=\u001b[39m \u001b[39m1\u001b[39m\n\u001b[1;32m    633\u001b[0m \u001b[39mif\u001b[39;00m \u001b[39mself\u001b[39m\u001b[39m.\u001b[39m_dataset_kind \u001b[39m==\u001b[39m _DatasetKind\u001b[39m.\u001b[39mIterable \u001b[39mand\u001b[39;00m \\\n\u001b[1;32m    634\u001b[0m         \u001b[39mself\u001b[39m\u001b[39m.\u001b[39m_IterableDataset_len_called \u001b[39mis\u001b[39;00m \u001b[39mnot\u001b[39;00m \u001b[39mNone\u001b[39;00m \u001b[39mand\u001b[39;00m \\\n\u001b[1;32m    635\u001b[0m         \u001b[39mself\u001b[39m\u001b[39m.\u001b[39m_num_yielded \u001b[39m>\u001b[39m \u001b[39mself\u001b[39m\u001b[39m.\u001b[39m_IterableDataset_len_called:\n",
      "File \u001b[0;32m~/miniconda/envs/test3/lib/python3.10/site-packages/torch/utils/data/dataloader.py:675\u001b[0m, in \u001b[0;36m_SingleProcessDataLoaderIter._next_data\u001b[0;34m(self)\u001b[0m\n\u001b[1;32m    673\u001b[0m \u001b[39mdef\u001b[39;00m \u001b[39m_next_data\u001b[39m(\u001b[39mself\u001b[39m):\n\u001b[1;32m    674\u001b[0m     index \u001b[39m=\u001b[39m \u001b[39mself\u001b[39m\u001b[39m.\u001b[39m_next_index()  \u001b[39m# may raise StopIteration\u001b[39;00m\n\u001b[0;32m--> 675\u001b[0m     data \u001b[39m=\u001b[39m \u001b[39mself\u001b[39;49m\u001b[39m.\u001b[39;49m_dataset_fetcher\u001b[39m.\u001b[39;49mfetch(index)  \u001b[39m# may raise StopIteration\u001b[39;00m\n\u001b[1;32m    676\u001b[0m     \u001b[39mif\u001b[39;00m \u001b[39mself\u001b[39m\u001b[39m.\u001b[39m_pin_memory:\n\u001b[1;32m    677\u001b[0m         data \u001b[39m=\u001b[39m _utils\u001b[39m.\u001b[39mpin_memory\u001b[39m.\u001b[39mpin_memory(data, \u001b[39mself\u001b[39m\u001b[39m.\u001b[39m_pin_memory_device)\n",
      "File \u001b[0;32m~/miniconda/envs/test3/lib/python3.10/site-packages/torch/utils/data/_utils/fetch.py:51\u001b[0m, in \u001b[0;36m_MapDatasetFetcher.fetch\u001b[0;34m(self, possibly_batched_index)\u001b[0m\n\u001b[1;32m     49\u001b[0m         data \u001b[39m=\u001b[39m \u001b[39mself\u001b[39m\u001b[39m.\u001b[39mdataset\u001b[39m.\u001b[39m__getitems__(possibly_batched_index)\n\u001b[1;32m     50\u001b[0m     \u001b[39melse\u001b[39;00m:\n\u001b[0;32m---> 51\u001b[0m         data \u001b[39m=\u001b[39m [\u001b[39mself\u001b[39m\u001b[39m.\u001b[39mdataset[idx] \u001b[39mfor\u001b[39;00m idx \u001b[39min\u001b[39;00m possibly_batched_index]\n\u001b[1;32m     52\u001b[0m \u001b[39melse\u001b[39;00m:\n\u001b[1;32m     53\u001b[0m     data \u001b[39m=\u001b[39m \u001b[39mself\u001b[39m\u001b[39m.\u001b[39mdataset[possibly_batched_index]\n",
      "File \u001b[0;32m~/miniconda/envs/test3/lib/python3.10/site-packages/torch/utils/data/_utils/fetch.py:51\u001b[0m, in \u001b[0;36m<listcomp>\u001b[0;34m(.0)\u001b[0m\n\u001b[1;32m     49\u001b[0m         data \u001b[39m=\u001b[39m \u001b[39mself\u001b[39m\u001b[39m.\u001b[39mdataset\u001b[39m.\u001b[39m__getitems__(possibly_batched_index)\n\u001b[1;32m     50\u001b[0m     \u001b[39melse\u001b[39;00m:\n\u001b[0;32m---> 51\u001b[0m         data \u001b[39m=\u001b[39m [\u001b[39mself\u001b[39;49m\u001b[39m.\u001b[39;49mdataset[idx] \u001b[39mfor\u001b[39;00m idx \u001b[39min\u001b[39;00m possibly_batched_index]\n\u001b[1;32m     52\u001b[0m \u001b[39melse\u001b[39;00m:\n\u001b[1;32m     53\u001b[0m     data \u001b[39m=\u001b[39m \u001b[39mself\u001b[39m\u001b[39m.\u001b[39mdataset[possibly_batched_index]\n",
      "\u001b[1;32m/home/user/original/PEA/explore_data_loader.ipynb Cell 20\u001b[0m line \u001b[0;36m5\n\u001b[1;32m     <a href='vscode-notebook-cell://80-itg-wkst-wadhah-dahouathi-ew1-pd.cluster-irmp7yabxrbcwwg3sbsvmaa5ew.cloudworkstations.dev/home/user/original/PEA/explore_data_loader.ipynb#X35sdnNjb2RlLXJlbW90ZQ%3D%3D?line=52'>53</a>\u001b[0m sampled_timeseries \u001b[39m=\u001b[39m \u001b[39mself\u001b[39m\u001b[39m.\u001b[39mtimeseries[index]\n\u001b[1;32m     <a href='vscode-notebook-cell://80-itg-wkst-wadhah-dahouathi-ew1-pd.cluster-irmp7yabxrbcwwg3sbsvmaa5ew.cloudworkstations.dev/home/user/original/PEA/explore_data_loader.ipynb#X35sdnNjb2RlLXJlbW90ZQ%3D%3D?line=53'>54</a>\u001b[0m \u001b[39mif\u001b[39;00m \u001b[39mself\u001b[39m\u001b[39m.\u001b[39mflag\u001b[39m==\u001b[39m\u001b[39m'\u001b[39m\u001b[39mtrain\u001b[39m\u001b[39m'\u001b[39m:\n\u001b[0;32m---> <a href='vscode-notebook-cell://80-itg-wkst-wadhah-dahouathi-ew1-pd.cluster-irmp7yabxrbcwwg3sbsvmaa5ew.cloudworkstations.dev/home/user/original/PEA/explore_data_loader.ipynb#X35sdnNjb2RlLXJlbW90ZQ%3D%3D?line=54'>55</a>\u001b[0m     cut_point \u001b[39m=\u001b[39m np\u001b[39m.\u001b[39;49mrandom\u001b[39m.\u001b[39;49mrandint(low\u001b[39m=\u001b[39;49m\u001b[39mself\u001b[39;49m\u001b[39m.\u001b[39;49mseq_len,\n\u001b[1;32m     <a href='vscode-notebook-cell://80-itg-wkst-wadhah-dahouathi-ew1-pd.cluster-irmp7yabxrbcwwg3sbsvmaa5ew.cloudworkstations.dev/home/user/original/PEA/explore_data_loader.ipynb#X35sdnNjb2RlLXJlbW90ZQ%3D%3D?line=55'>56</a>\u001b[0m                               high\u001b[39m=\u001b[39;49m\u001b[39mlen\u001b[39;49m(sampled_timeseries)\u001b[39m-\u001b[39;49m\u001b[39mself\u001b[39;49m\u001b[39m.\u001b[39;49mpred_len\u001b[39m+\u001b[39;49m\u001b[39m1\u001b[39;49m,\n\u001b[1;32m     <a href='vscode-notebook-cell://80-itg-wkst-wadhah-dahouathi-ew1-pd.cluster-irmp7yabxrbcwwg3sbsvmaa5ew.cloudworkstations.dev/home/user/original/PEA/explore_data_loader.ipynb#X35sdnNjb2RlLXJlbW90ZQ%3D%3D?line=56'>57</a>\u001b[0m                               size\u001b[39m=\u001b[39;49m\u001b[39m1\u001b[39;49m)[\u001b[39m0\u001b[39m]\n\u001b[1;32m     <a href='vscode-notebook-cell://80-itg-wkst-wadhah-dahouathi-ew1-pd.cluster-irmp7yabxrbcwwg3sbsvmaa5ew.cloudworkstations.dev/home/user/original/PEA/explore_data_loader.ipynb#X35sdnNjb2RlLXJlbW90ZQ%3D%3D?line=57'>58</a>\u001b[0m \u001b[39melse\u001b[39;00m:\n\u001b[1;32m     <a href='vscode-notebook-cell://80-itg-wkst-wadhah-dahouathi-ew1-pd.cluster-irmp7yabxrbcwwg3sbsvmaa5ew.cloudworkstations.dev/home/user/original/PEA/explore_data_loader.ipynb#X35sdnNjb2RlLXJlbW90ZQ%3D%3D?line=58'>59</a>\u001b[0m     cut_point \u001b[39m=\u001b[39m np\u001b[39m.\u001b[39mrandom\u001b[39m.\u001b[39mrandint(low\u001b[39m=\u001b[39m\u001b[39mmax\u001b[39m(\u001b[39m1\u001b[39m, \u001b[39mlen\u001b[39m(sampled_timeseries)\u001b[39m-\u001b[39m \u001b[39mself\u001b[39m\u001b[39m.\u001b[39mwindow_sampling_limit),\n\u001b[1;32m     <a href='vscode-notebook-cell://80-itg-wkst-wadhah-dahouathi-ew1-pd.cluster-irmp7yabxrbcwwg3sbsvmaa5ew.cloudworkstations.dev/home/user/original/PEA/explore_data_loader.ipynb#X35sdnNjb2RlLXJlbW90ZQ%3D%3D?line=59'>60</a>\u001b[0m                               high\u001b[39m=\u001b[39m\u001b[39mlen\u001b[39m(sampled_timeseries),\n\u001b[1;32m     <a href='vscode-notebook-cell://80-itg-wkst-wadhah-dahouathi-ew1-pd.cluster-irmp7yabxrbcwwg3sbsvmaa5ew.cloudworkstations.dev/home/user/original/PEA/explore_data_loader.ipynb#X35sdnNjb2RlLXJlbW90ZQ%3D%3D?line=60'>61</a>\u001b[0m                               size\u001b[39m=\u001b[39m\u001b[39m1\u001b[39m)[\u001b[39m0\u001b[39m]\n",
      "File \u001b[0;32mmtrand.pyx:748\u001b[0m, in \u001b[0;36mnumpy.random.mtrand.RandomState.randint\u001b[0;34m()\u001b[0m\n",
      "File \u001b[0;32m_bounded_integers.pyx:1247\u001b[0m, in \u001b[0;36mnumpy.random._bounded_integers._rand_int64\u001b[0;34m()\u001b[0m\n",
      "\u001b[0;31mValueError\u001b[0m: low >= high"
     ]
    }
   ],
   "source": [
    "for x,_,y,_ in dtrain_loader:\n",
    "    print(x.shape)"
   ]
  },
  {
   "cell_type": "code",
   "execution_count": 16,
   "metadata": {},
   "outputs": [],
   "source": [
    "from data_provider.m4 import M4Dataset, M4Meta"
   ]
  },
  {
   "cell_type": "code",
   "execution_count": 17,
   "metadata": {},
   "outputs": [],
   "source": [
    "import torch"
   ]
  },
  {
   "cell_type": "code",
   "execution_count": 94,
   "metadata": {},
   "outputs": [
    {
     "data": {
      "text/plain": [
       "torch.Size([1537, 29, 12])"
      ]
     },
     "execution_count": 94,
     "metadata": {},
     "output_type": "execute_result"
    }
   ],
   "source": [
    "x = torch.tensor(x, dtype=torch.float32)\n",
    "x.shape"
   ]
  },
  {
   "cell_type": "code",
   "execution_count": 95,
   "metadata": {},
   "outputs": [
    {
     "data": {
      "text/plain": [
       "torch.Size([1537, 29, 12])"
      ]
     },
     "execution_count": 95,
     "metadata": {},
     "output_type": "execute_result"
    }
   ],
   "source": [
    "x.shape"
   ]
  },
  {
   "cell_type": "code",
   "execution_count": 96,
   "metadata": {},
   "outputs": [],
   "source": [
    "B,_,C = x.shape"
   ]
  },
  {
   "cell_type": "code",
   "execution_count": 100,
   "metadata": {},
   "outputs": [
    {
     "data": {
      "text/plain": [
       "array([   0,    6,   12,   18,   24,   30,   36,   42,   48,   54,   60,\n",
       "         66,   72,   78,   84,   90,   96,  102,  108,  114,  120,  126,\n",
       "        132,  138,  144,  150,  156,  162,  168,  174,  180,  186,  192,\n",
       "        198,  204,  210,  216,  222,  228,  234,  240,  246,  252,  258,\n",
       "        264,  270,  276,  282,  288,  294,  300,  306,  312,  318,  324,\n",
       "        330,  336,  342,  348,  354,  360,  366,  372,  378,  384,  390,\n",
       "        396,  402,  408,  414,  420,  426,  432,  438,  444,  450,  456,\n",
       "        462,  468,  474,  480,  486,  492,  498,  504,  510,  516,  522,\n",
       "        528,  534,  540,  546,  552,  558,  564,  570,  576,  582,  588,\n",
       "        594,  600,  606,  612,  618,  624,  630,  636,  642,  648,  654,\n",
       "        660,  666,  672,  678,  684,  690,  696,  702,  708,  714,  720,\n",
       "        726,  732,  738,  744,  750,  756,  762,  768,  774,  780,  786,\n",
       "        792,  798,  804,  810,  816,  822,  828,  834,  840,  846,  852,\n",
       "        858,  864,  870,  876,  882,  888,  894,  900,  906,  912,  918,\n",
       "        924,  930,  936,  942,  948,  954,  960,  966,  972,  978,  984,\n",
       "        990,  996, 1002, 1008, 1014, 1020, 1026, 1032, 1038, 1044, 1050,\n",
       "       1056, 1062, 1068, 1074, 1080, 1086, 1092, 1098, 1104, 1110, 1116,\n",
       "       1122, 1128, 1134, 1140, 1146, 1152, 1158, 1164, 1170, 1176, 1182,\n",
       "       1188, 1194, 1200, 1206, 1212, 1218, 1224, 1230, 1236, 1242, 1248,\n",
       "       1254, 1260, 1266, 1272, 1278, 1284, 1290, 1296, 1302, 1308, 1314,\n",
       "       1320, 1326, 1332, 1338, 1344, 1350, 1356, 1362, 1368, 1374, 1380,\n",
       "       1386, 1392, 1398, 1404, 1410, 1416, 1422, 1428, 1434, 1440, 1446,\n",
       "       1452, 1458, 1464, 1470, 1476, 1482, 1488, 1494, 1500, 1506, 1512,\n",
       "       1518, 1524, 1530, 1536, 1537])"
      ]
     },
     "execution_count": 100,
     "metadata": {},
     "output_type": "execute_result"
    }
   ],
   "source": [
    "id_list = np.arange(0, B, 6)\n",
    "id_list = np.append(id_list, B)\n",
    "id_list"
   ]
  },
  {
   "cell_type": "code",
   "execution_count": null,
   "metadata": {},
   "outputs": [],
   "source": []
  }
 ],
 "metadata": {
  "kernelspec": {
   "display_name": "test3",
   "language": "python",
   "name": "python3"
  },
  "language_info": {
   "codemirror_mode": {
    "name": "ipython",
    "version": 3
   },
   "file_extension": ".py",
   "mimetype": "text/x-python",
   "name": "python",
   "nbconvert_exporter": "python",
   "pygments_lexer": "ipython3",
   "version": "3.10.14"
  }
 },
 "nbformat": 4,
 "nbformat_minor": 2
}
