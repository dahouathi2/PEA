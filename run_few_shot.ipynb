{
 "cells": [
  {
   "cell_type": "code",
   "execution_count": 1,
   "metadata": {},
   "outputs": [
    {
     "name": "stderr",
     "output_type": "stream",
     "text": [
      "/home/user/miniconda/envs/gpu/lib/python3.8/site-packages/tqdm/auto.py:21: TqdmWarning: IProgress not found. Please update jupyter and ipywidgets. See https://ipywidgets.readthedocs.io/en/stable/user_install.html\n",
      "  from .autonotebook import tqdm as notebook_tqdm\n"
     ]
    },
    {
     "name": "stdout",
     "output_type": "stream",
     "text": [
      "[2024-05-21 14:10:16,043] [INFO] [real_accelerator.py:133:get_accelerator] Setting ds_accelerator to cuda (auto detect)\n"
     ]
    }
   ],
   "source": [
    "import argparse\n",
    "\n",
    "import torch\n",
    "\n",
    "from accelerate import Accelerator, DeepSpeedPlugin\n",
    "\n",
    "from accelerate import DistributedDataParallelKwargs\n",
    "\n",
    "from torch import nn, optim\n",
    "\n",
    "from torch.optim import lr_scheduler\n",
    "\n",
    "from tqdm import tqdm\n",
    "\n",
    "\n",
    "\n",
    "from models import Autoformer, DLinear, TimeLLM\n",
    "\n",
    "\n",
    "\n",
    "#from data_provider.data_factory import data_provider\n",
    "\n",
    "import time\n",
    "\n",
    "import random\n",
    "\n",
    "import numpy as np\n",
    "\n",
    "import os\n",
    "\n",
    "\n",
    "\n",
    "os.environ['CURL_CA_BUNDLE'] = ''\n",
    "\n",
    "os.environ[\"PYTORCH_CUDA_ALLOC_CONF\"] = \"max_split_size_mb:64\"\n",
    "\n",
    "\n",
    "\n",
    "from utils.tools import del_files, EarlyStopping, adjust_learning_rate, vali, load_content\n",
    "\n",
    "\n",
    "fix_seed = 2021\n",
    "\n",
    "random.seed(fix_seed)\n",
    "\n",
    "torch.manual_seed(fix_seed)\n",
    "\n",
    "np.random.seed(fix_seed)"
   ]
  },
  {
   "cell_type": "code",
   "execution_count": 2,
   "metadata": {},
   "outputs": [],
   "source": [
    "ddp_kwargs = DistributedDataParallelKwargs(find_unused_parameters=True)\n",
    "\n",
    "deepspeed_plugin = DeepSpeedPlugin(hf_ds_config='./ds_config_zero2.json')\n",
    "\n",
    "accelerator = Accelerator(kwargs_handlers=[ddp_kwargs], deepspeed_plugin=deepspeed_plugin)"
   ]
  },
  {
   "cell_type": "code",
   "execution_count": 2,
   "metadata": {},
   "outputs": [],
   "source": [
    "import pandas as pd\n",
    "import matplotlib.pyplot as plt\n",
    "df = pd.read_csv(\"dataset/traffic.csv\")"
   ]
  },
  {
   "cell_type": "code",
   "execution_count": 5,
   "metadata": {},
   "outputs": [
    {
     "data": {
      "text/html": [
       "<div>\n",
       "<style scoped>\n",
       "    .dataframe tbody tr th:only-of-type {\n",
       "        vertical-align: middle;\n",
       "    }\n",
       "\n",
       "    .dataframe tbody tr th {\n",
       "        vertical-align: top;\n",
       "    }\n",
       "\n",
       "    .dataframe thead th {\n",
       "        text-align: right;\n",
       "    }\n",
       "</style>\n",
       "<table border=\"1\" class=\"dataframe\">\n",
       "  <thead>\n",
       "    <tr style=\"text-align: right;\">\n",
       "      <th></th>\n",
       "      <th>date</th>\n",
       "      <th>0</th>\n",
       "      <th>1</th>\n",
       "      <th>2</th>\n",
       "      <th>3</th>\n",
       "      <th>4</th>\n",
       "      <th>5</th>\n",
       "      <th>6</th>\n",
       "      <th>7</th>\n",
       "      <th>8</th>\n",
       "      <th>...</th>\n",
       "      <th>852</th>\n",
       "      <th>853</th>\n",
       "      <th>854</th>\n",
       "      <th>855</th>\n",
       "      <th>856</th>\n",
       "      <th>857</th>\n",
       "      <th>858</th>\n",
       "      <th>859</th>\n",
       "      <th>860</th>\n",
       "      <th>OT</th>\n",
       "    </tr>\n",
       "  </thead>\n",
       "  <tbody>\n",
       "    <tr>\n",
       "      <th>0</th>\n",
       "      <td>2016-07-01 02:00:00</td>\n",
       "      <td>0.0048</td>\n",
       "      <td>0.0146</td>\n",
       "      <td>0.0289</td>\n",
       "      <td>0.0142</td>\n",
       "      <td>0.0064</td>\n",
       "      <td>0.0232</td>\n",
       "      <td>0.0162</td>\n",
       "      <td>0.0242</td>\n",
       "      <td>0.0341</td>\n",
       "      <td>...</td>\n",
       "      <td>0.0051</td>\n",
       "      <td>0.0051</td>\n",
       "      <td>0.0074</td>\n",
       "      <td>0.0079</td>\n",
       "      <td>0.0051</td>\n",
       "      <td>0.0051</td>\n",
       "      <td>0.0339</td>\n",
       "      <td>0.0051</td>\n",
       "      <td>0.0100</td>\n",
       "      <td>0.0121</td>\n",
       "    </tr>\n",
       "    <tr>\n",
       "      <th>1</th>\n",
       "      <td>2016-07-01 03:00:00</td>\n",
       "      <td>0.0072</td>\n",
       "      <td>0.0148</td>\n",
       "      <td>0.0350</td>\n",
       "      <td>0.0174</td>\n",
       "      <td>0.0084</td>\n",
       "      <td>0.0240</td>\n",
       "      <td>0.0201</td>\n",
       "      <td>0.0338</td>\n",
       "      <td>0.0434</td>\n",
       "      <td>...</td>\n",
       "      <td>0.0036</td>\n",
       "      <td>0.0036</td>\n",
       "      <td>0.0107</td>\n",
       "      <td>0.0058</td>\n",
       "      <td>0.0036</td>\n",
       "      <td>0.0036</td>\n",
       "      <td>0.0348</td>\n",
       "      <td>0.0036</td>\n",
       "      <td>0.0087</td>\n",
       "      <td>0.0136</td>\n",
       "    </tr>\n",
       "    <tr>\n",
       "      <th>2</th>\n",
       "      <td>2016-07-01 04:00:00</td>\n",
       "      <td>0.0040</td>\n",
       "      <td>0.0101</td>\n",
       "      <td>0.0267</td>\n",
       "      <td>0.0124</td>\n",
       "      <td>0.0049</td>\n",
       "      <td>0.0170</td>\n",
       "      <td>0.0127</td>\n",
       "      <td>0.0255</td>\n",
       "      <td>0.0332</td>\n",
       "      <td>...</td>\n",
       "      <td>0.0030</td>\n",
       "      <td>0.0030</td>\n",
       "      <td>0.0043</td>\n",
       "      <td>0.0050</td>\n",
       "      <td>0.0030</td>\n",
       "      <td>0.0030</td>\n",
       "      <td>0.0327</td>\n",
       "      <td>0.0030</td>\n",
       "      <td>0.0061</td>\n",
       "      <td>0.0107</td>\n",
       "    </tr>\n",
       "    <tr>\n",
       "      <th>3</th>\n",
       "      <td>2016-07-01 05:00:00</td>\n",
       "      <td>0.0039</td>\n",
       "      <td>0.0060</td>\n",
       "      <td>0.0218</td>\n",
       "      <td>0.0090</td>\n",
       "      <td>0.0029</td>\n",
       "      <td>0.0118</td>\n",
       "      <td>0.0088</td>\n",
       "      <td>0.0163</td>\n",
       "      <td>0.0211</td>\n",
       "      <td>...</td>\n",
       "      <td>0.0033</td>\n",
       "      <td>0.0033</td>\n",
       "      <td>0.0019</td>\n",
       "      <td>0.0052</td>\n",
       "      <td>0.0033</td>\n",
       "      <td>0.0033</td>\n",
       "      <td>0.0292</td>\n",
       "      <td>0.0033</td>\n",
       "      <td>0.0040</td>\n",
       "      <td>0.0071</td>\n",
       "    </tr>\n",
       "    <tr>\n",
       "      <th>4</th>\n",
       "      <td>2016-07-01 06:00:00</td>\n",
       "      <td>0.0042</td>\n",
       "      <td>0.0055</td>\n",
       "      <td>0.0191</td>\n",
       "      <td>0.0082</td>\n",
       "      <td>0.0024</td>\n",
       "      <td>0.0095</td>\n",
       "      <td>0.0064</td>\n",
       "      <td>0.0087</td>\n",
       "      <td>0.0144</td>\n",
       "      <td>...</td>\n",
       "      <td>0.0049</td>\n",
       "      <td>0.0049</td>\n",
       "      <td>0.0011</td>\n",
       "      <td>0.0071</td>\n",
       "      <td>0.0049</td>\n",
       "      <td>0.0049</td>\n",
       "      <td>0.0264</td>\n",
       "      <td>0.0049</td>\n",
       "      <td>0.0040</td>\n",
       "      <td>0.0039</td>\n",
       "    </tr>\n",
       "    <tr>\n",
       "      <th>...</th>\n",
       "      <td>...</td>\n",
       "      <td>...</td>\n",
       "      <td>...</td>\n",
       "      <td>...</td>\n",
       "      <td>...</td>\n",
       "      <td>...</td>\n",
       "      <td>...</td>\n",
       "      <td>...</td>\n",
       "      <td>...</td>\n",
       "      <td>...</td>\n",
       "      <td>...</td>\n",
       "      <td>...</td>\n",
       "      <td>...</td>\n",
       "      <td>...</td>\n",
       "      <td>...</td>\n",
       "      <td>...</td>\n",
       "      <td>...</td>\n",
       "      <td>...</td>\n",
       "      <td>...</td>\n",
       "      <td>...</td>\n",
       "      <td>...</td>\n",
       "    </tr>\n",
       "    <tr>\n",
       "      <th>17539</th>\n",
       "      <td>2018-07-01 21:00:00</td>\n",
       "      <td>0.0342</td>\n",
       "      <td>0.0332</td>\n",
       "      <td>0.1378</td>\n",
       "      <td>0.0559</td>\n",
       "      <td>0.0165</td>\n",
       "      <td>0.0386</td>\n",
       "      <td>0.0457</td>\n",
       "      <td>0.0687</td>\n",
       "      <td>0.0716</td>\n",
       "      <td>...</td>\n",
       "      <td>0.0139</td>\n",
       "      <td>0.0179</td>\n",
       "      <td>0.0278</td>\n",
       "      <td>0.0280</td>\n",
       "      <td>0.0227</td>\n",
       "      <td>0.0375</td>\n",
       "      <td>0.0142</td>\n",
       "      <td>0.0201</td>\n",
       "      <td>0.0341</td>\n",
       "      <td>0.0429</td>\n",
       "    </tr>\n",
       "    <tr>\n",
       "      <th>17540</th>\n",
       "      <td>2018-07-01 22:00:00</td>\n",
       "      <td>0.0285</td>\n",
       "      <td>0.0253</td>\n",
       "      <td>0.0542</td>\n",
       "      <td>0.0485</td>\n",
       "      <td>0.0131</td>\n",
       "      <td>0.0331</td>\n",
       "      <td>0.0372</td>\n",
       "      <td>0.0569</td>\n",
       "      <td>0.0669</td>\n",
       "      <td>...</td>\n",
       "      <td>0.0116</td>\n",
       "      <td>0.0155</td>\n",
       "      <td>0.0201</td>\n",
       "      <td>0.0267</td>\n",
       "      <td>0.0207</td>\n",
       "      <td>0.0320</td>\n",
       "      <td>0.0122</td>\n",
       "      <td>0.0163</td>\n",
       "      <td>0.0306</td>\n",
       "      <td>0.0363</td>\n",
       "    </tr>\n",
       "    <tr>\n",
       "      <th>17541</th>\n",
       "      <td>2018-07-01 23:00:00</td>\n",
       "      <td>0.0276</td>\n",
       "      <td>0.0257</td>\n",
       "      <td>0.0551</td>\n",
       "      <td>0.0474</td>\n",
       "      <td>0.0121</td>\n",
       "      <td>0.0326</td>\n",
       "      <td>0.0381</td>\n",
       "      <td>0.0566</td>\n",
       "      <td>0.0675</td>\n",
       "      <td>...</td>\n",
       "      <td>0.0109</td>\n",
       "      <td>0.0142</td>\n",
       "      <td>0.0208</td>\n",
       "      <td>0.0252</td>\n",
       "      <td>0.0189</td>\n",
       "      <td>0.0287</td>\n",
       "      <td>0.0123</td>\n",
       "      <td>0.0152</td>\n",
       "      <td>0.0292</td>\n",
       "      <td>0.0325</td>\n",
       "    </tr>\n",
       "    <tr>\n",
       "      <th>17542</th>\n",
       "      <td>2018-07-02 00:00:00</td>\n",
       "      <td>0.0232</td>\n",
       "      <td>0.0229</td>\n",
       "      <td>0.0496</td>\n",
       "      <td>0.0435</td>\n",
       "      <td>0.0119</td>\n",
       "      <td>0.0297</td>\n",
       "      <td>0.0361</td>\n",
       "      <td>0.0517</td>\n",
       "      <td>0.0598</td>\n",
       "      <td>...</td>\n",
       "      <td>0.0092</td>\n",
       "      <td>0.0124</td>\n",
       "      <td>0.0219</td>\n",
       "      <td>0.0215</td>\n",
       "      <td>0.0169</td>\n",
       "      <td>0.0258</td>\n",
       "      <td>0.0096</td>\n",
       "      <td>0.0130</td>\n",
       "      <td>0.0252</td>\n",
       "      <td>0.0279</td>\n",
       "    </tr>\n",
       "    <tr>\n",
       "      <th>17543</th>\n",
       "      <td>2018-07-02 01:00:00</td>\n",
       "      <td>0.0090</td>\n",
       "      <td>0.0168</td>\n",
       "      <td>0.0365</td>\n",
       "      <td>0.0328</td>\n",
       "      <td>0.0084</td>\n",
       "      <td>0.0213</td>\n",
       "      <td>0.0257</td>\n",
       "      <td>0.0475</td>\n",
       "      <td>0.0540</td>\n",
       "      <td>...</td>\n",
       "      <td>0.0067</td>\n",
       "      <td>0.0085</td>\n",
       "      <td>0.0143</td>\n",
       "      <td>0.0151</td>\n",
       "      <td>0.0123</td>\n",
       "      <td>0.0193</td>\n",
       "      <td>0.0061</td>\n",
       "      <td>0.0098</td>\n",
       "      <td>0.0170</td>\n",
       "      <td>0.0208</td>\n",
       "    </tr>\n",
       "  </tbody>\n",
       "</table>\n",
       "<p>17544 rows × 863 columns</p>\n",
       "</div>"
      ],
      "text/plain": [
       "                      date       0       1       2       3       4       5  \\\n",
       "0      2016-07-01 02:00:00  0.0048  0.0146  0.0289  0.0142  0.0064  0.0232   \n",
       "1      2016-07-01 03:00:00  0.0072  0.0148  0.0350  0.0174  0.0084  0.0240   \n",
       "2      2016-07-01 04:00:00  0.0040  0.0101  0.0267  0.0124  0.0049  0.0170   \n",
       "3      2016-07-01 05:00:00  0.0039  0.0060  0.0218  0.0090  0.0029  0.0118   \n",
       "4      2016-07-01 06:00:00  0.0042  0.0055  0.0191  0.0082  0.0024  0.0095   \n",
       "...                    ...     ...     ...     ...     ...     ...     ...   \n",
       "17539  2018-07-01 21:00:00  0.0342  0.0332  0.1378  0.0559  0.0165  0.0386   \n",
       "17540  2018-07-01 22:00:00  0.0285  0.0253  0.0542  0.0485  0.0131  0.0331   \n",
       "17541  2018-07-01 23:00:00  0.0276  0.0257  0.0551  0.0474  0.0121  0.0326   \n",
       "17542  2018-07-02 00:00:00  0.0232  0.0229  0.0496  0.0435  0.0119  0.0297   \n",
       "17543  2018-07-02 01:00:00  0.0090  0.0168  0.0365  0.0328  0.0084  0.0213   \n",
       "\n",
       "            6       7       8  ...     852     853     854     855     856  \\\n",
       "0      0.0162  0.0242  0.0341  ...  0.0051  0.0051  0.0074  0.0079  0.0051   \n",
       "1      0.0201  0.0338  0.0434  ...  0.0036  0.0036  0.0107  0.0058  0.0036   \n",
       "2      0.0127  0.0255  0.0332  ...  0.0030  0.0030  0.0043  0.0050  0.0030   \n",
       "3      0.0088  0.0163  0.0211  ...  0.0033  0.0033  0.0019  0.0052  0.0033   \n",
       "4      0.0064  0.0087  0.0144  ...  0.0049  0.0049  0.0011  0.0071  0.0049   \n",
       "...       ...     ...     ...  ...     ...     ...     ...     ...     ...   \n",
       "17539  0.0457  0.0687  0.0716  ...  0.0139  0.0179  0.0278  0.0280  0.0227   \n",
       "17540  0.0372  0.0569  0.0669  ...  0.0116  0.0155  0.0201  0.0267  0.0207   \n",
       "17541  0.0381  0.0566  0.0675  ...  0.0109  0.0142  0.0208  0.0252  0.0189   \n",
       "17542  0.0361  0.0517  0.0598  ...  0.0092  0.0124  0.0219  0.0215  0.0169   \n",
       "17543  0.0257  0.0475  0.0540  ...  0.0067  0.0085  0.0143  0.0151  0.0123   \n",
       "\n",
       "          857     858     859     860      OT  \n",
       "0      0.0051  0.0339  0.0051  0.0100  0.0121  \n",
       "1      0.0036  0.0348  0.0036  0.0087  0.0136  \n",
       "2      0.0030  0.0327  0.0030  0.0061  0.0107  \n",
       "3      0.0033  0.0292  0.0033  0.0040  0.0071  \n",
       "4      0.0049  0.0264  0.0049  0.0040  0.0039  \n",
       "...       ...     ...     ...     ...     ...  \n",
       "17539  0.0375  0.0142  0.0201  0.0341  0.0429  \n",
       "17540  0.0320  0.0122  0.0163  0.0306  0.0363  \n",
       "17541  0.0287  0.0123  0.0152  0.0292  0.0325  \n",
       "17542  0.0258  0.0096  0.0130  0.0252  0.0279  \n",
       "17543  0.0193  0.0061  0.0098  0.0170  0.0208  \n",
       "\n",
       "[17544 rows x 863 columns]"
      ]
     },
     "execution_count": 5,
     "metadata": {},
     "output_type": "execute_result"
    }
   ],
   "source": [
    "df"
   ]
  },
  {
   "cell_type": "code",
   "execution_count": 4,
   "metadata": {},
   "outputs": [
    {
     "ename": "TypeError",
     "evalue": "unhashable type: 'numpy.ndarray'",
     "output_type": "error",
     "traceback": [
      "\u001b[0;31m---------------------------------------------------------------------------\u001b[0m",
      "\u001b[0;31mTypeError\u001b[0m                                 Traceback (most recent call last)",
      "\u001b[1;32m/home/user/original/PEA/run_few_shot.ipynb Cell 4\u001b[0m line \u001b[0;36m1\n\u001b[0;32m----> <a href='vscode-notebook-cell://80-itg-wkst-wadhah-dahouathi-ew1-pd.cluster-irmp7yabxrbcwwg3sbsvmaa5ew.cloudworkstations.dev/home/user/original/PEA/run_few_shot.ipynb#W3sdnNjb2RlLXJlbW90ZQ%3D%3D?line=0'>1</a>\u001b[0m plt\u001b[39m.\u001b[39;49mplot(df[[\u001b[39m\"\u001b[39;49m\u001b[39mdate\u001b[39;49m\u001b[39m\"\u001b[39;49m,\u001b[39m\"\u001b[39;49m\u001b[39m0\u001b[39;49m\u001b[39m\"\u001b[39;49m,\u001b[39m'\u001b[39;49m\u001b[39m300\u001b[39;49m\u001b[39m'\u001b[39;49m,\u001b[39m'\u001b[39;49m\u001b[39m600\u001b[39;49m\u001b[39m'\u001b[39;49m,\u001b[39m'\u001b[39;49m\u001b[39mOT\u001b[39;49m\u001b[39m'\u001b[39;49m]]\u001b[39m.\u001b[39;49mhead(\u001b[39m60\u001b[39;49m))\n",
      "File \u001b[0;32m~/miniconda/envs/gpu/lib/python3.8/site-packages/matplotlib/pyplot.py:2785\u001b[0m, in \u001b[0;36mplot\u001b[0;34m(scalex, scaley, data, *args, **kwargs)\u001b[0m\n\u001b[1;32m   2783\u001b[0m \u001b[39m@_copy_docstring_and_deprecators\u001b[39m(Axes\u001b[39m.\u001b[39mplot)\n\u001b[1;32m   2784\u001b[0m \u001b[39mdef\u001b[39;00m \u001b[39mplot\u001b[39m(\u001b[39m*\u001b[39margs, scalex\u001b[39m=\u001b[39m\u001b[39mTrue\u001b[39;00m, scaley\u001b[39m=\u001b[39m\u001b[39mTrue\u001b[39;00m, data\u001b[39m=\u001b[39m\u001b[39mNone\u001b[39;00m, \u001b[39m*\u001b[39m\u001b[39m*\u001b[39mkwargs):\n\u001b[0;32m-> 2785\u001b[0m     \u001b[39mreturn\u001b[39;00m gca()\u001b[39m.\u001b[39;49mplot(\n\u001b[1;32m   2786\u001b[0m         \u001b[39m*\u001b[39;49margs, scalex\u001b[39m=\u001b[39;49mscalex, scaley\u001b[39m=\u001b[39;49mscaley,\n\u001b[1;32m   2787\u001b[0m         \u001b[39m*\u001b[39;49m\u001b[39m*\u001b[39;49m({\u001b[39m\"\u001b[39;49m\u001b[39mdata\u001b[39;49m\u001b[39m\"\u001b[39;49m: data} \u001b[39mif\u001b[39;49;00m data \u001b[39mis\u001b[39;49;00m \u001b[39mnot\u001b[39;49;00m \u001b[39mNone\u001b[39;49;00m \u001b[39melse\u001b[39;49;00m {}), \u001b[39m*\u001b[39;49m\u001b[39m*\u001b[39;49mkwargs)\n",
      "File \u001b[0;32m~/miniconda/envs/gpu/lib/python3.8/site-packages/matplotlib/axes/_axes.py:1688\u001b[0m, in \u001b[0;36mAxes.plot\u001b[0;34m(self, scalex, scaley, data, *args, **kwargs)\u001b[0m\n\u001b[1;32m   1445\u001b[0m \u001b[39m\u001b[39m\u001b[39m\"\"\"\u001b[39;00m\n\u001b[1;32m   1446\u001b[0m \u001b[39mPlot y versus x as lines and/or markers.\u001b[39;00m\n\u001b[1;32m   1447\u001b[0m \n\u001b[0;32m   (...)\u001b[0m\n\u001b[1;32m   1685\u001b[0m \u001b[39m(``'green'``) or hex strings (``'#008000'``).\u001b[39;00m\n\u001b[1;32m   1686\u001b[0m \u001b[39m\"\"\"\u001b[39;00m\n\u001b[1;32m   1687\u001b[0m kwargs \u001b[39m=\u001b[39m cbook\u001b[39m.\u001b[39mnormalize_kwargs(kwargs, mlines\u001b[39m.\u001b[39mLine2D)\n\u001b[0;32m-> 1688\u001b[0m lines \u001b[39m=\u001b[39m [\u001b[39m*\u001b[39m\u001b[39mself\u001b[39m\u001b[39m.\u001b[39m_get_lines(\u001b[39m*\u001b[39margs, data\u001b[39m=\u001b[39mdata, \u001b[39m*\u001b[39m\u001b[39m*\u001b[39mkwargs)]\n\u001b[1;32m   1689\u001b[0m \u001b[39mfor\u001b[39;00m line \u001b[39min\u001b[39;00m lines:\n\u001b[1;32m   1690\u001b[0m     \u001b[39mself\u001b[39m\u001b[39m.\u001b[39madd_line(line)\n",
      "File \u001b[0;32m~/miniconda/envs/gpu/lib/python3.8/site-packages/matplotlib/axes/_base.py:311\u001b[0m, in \u001b[0;36m_process_plot_var_args.__call__\u001b[0;34m(self, data, *args, **kwargs)\u001b[0m\n\u001b[1;32m    309\u001b[0m     this \u001b[39m+\u001b[39m\u001b[39m=\u001b[39m args[\u001b[39m0\u001b[39m],\n\u001b[1;32m    310\u001b[0m     args \u001b[39m=\u001b[39m args[\u001b[39m1\u001b[39m:]\n\u001b[0;32m--> 311\u001b[0m \u001b[39myield from\u001b[39;00m \u001b[39mself\u001b[39;49m\u001b[39m.\u001b[39;49m_plot_args(\n\u001b[1;32m    312\u001b[0m     this, kwargs, ambiguous_fmt_datakey\u001b[39m=\u001b[39;49mambiguous_fmt_datakey)\n",
      "File \u001b[0;32m~/miniconda/envs/gpu/lib/python3.8/site-packages/matplotlib/axes/_base.py:501\u001b[0m, in \u001b[0;36m_process_plot_var_args._plot_args\u001b[0;34m(self, tup, kwargs, return_kwargs, ambiguous_fmt_datakey)\u001b[0m\n\u001b[1;32m    499\u001b[0m     \u001b[39mself\u001b[39m\u001b[39m.\u001b[39maxes\u001b[39m.\u001b[39mxaxis\u001b[39m.\u001b[39mupdate_units(x)\n\u001b[1;32m    500\u001b[0m \u001b[39mif\u001b[39;00m \u001b[39mself\u001b[39m\u001b[39m.\u001b[39maxes\u001b[39m.\u001b[39myaxis \u001b[39mis\u001b[39;00m \u001b[39mnot\u001b[39;00m \u001b[39mNone\u001b[39;00m:\n\u001b[0;32m--> 501\u001b[0m     \u001b[39mself\u001b[39;49m\u001b[39m.\u001b[39;49maxes\u001b[39m.\u001b[39;49myaxis\u001b[39m.\u001b[39;49mupdate_units(y)\n\u001b[1;32m    503\u001b[0m \u001b[39mif\u001b[39;00m x\u001b[39m.\u001b[39mshape[\u001b[39m0\u001b[39m] \u001b[39m!=\u001b[39m y\u001b[39m.\u001b[39mshape[\u001b[39m0\u001b[39m]:\n\u001b[1;32m    504\u001b[0m     \u001b[39mraise\u001b[39;00m \u001b[39mValueError\u001b[39;00m(\u001b[39mf\u001b[39m\u001b[39m\"\u001b[39m\u001b[39mx and y must have same first dimension, but \u001b[39m\u001b[39m\"\u001b[39m\n\u001b[1;32m    505\u001b[0m                      \u001b[39mf\u001b[39m\u001b[39m\"\u001b[39m\u001b[39mhave shapes \u001b[39m\u001b[39m{\u001b[39;00mx\u001b[39m.\u001b[39mshape\u001b[39m}\u001b[39;00m\u001b[39m and \u001b[39m\u001b[39m{\u001b[39;00my\u001b[39m.\u001b[39mshape\u001b[39m}\u001b[39;00m\u001b[39m\"\u001b[39m)\n",
      "File \u001b[0;32m~/miniconda/envs/gpu/lib/python3.8/site-packages/matplotlib/axis.py:1670\u001b[0m, in \u001b[0;36mAxis.update_units\u001b[0;34m(self, data)\u001b[0m\n\u001b[1;32m   1668\u001b[0m neednew \u001b[39m=\u001b[39m \u001b[39mself\u001b[39m\u001b[39m.\u001b[39mconverter \u001b[39m!=\u001b[39m converter\n\u001b[1;32m   1669\u001b[0m \u001b[39mself\u001b[39m\u001b[39m.\u001b[39mconverter \u001b[39m=\u001b[39m converter\n\u001b[0;32m-> 1670\u001b[0m default \u001b[39m=\u001b[39m \u001b[39mself\u001b[39;49m\u001b[39m.\u001b[39;49mconverter\u001b[39m.\u001b[39;49mdefault_units(data, \u001b[39mself\u001b[39;49m)\n\u001b[1;32m   1671\u001b[0m \u001b[39mif\u001b[39;00m default \u001b[39mis\u001b[39;00m \u001b[39mnot\u001b[39;00m \u001b[39mNone\u001b[39;00m \u001b[39mand\u001b[39;00m \u001b[39mself\u001b[39m\u001b[39m.\u001b[39munits \u001b[39mis\u001b[39;00m \u001b[39mNone\u001b[39;00m:\n\u001b[1;32m   1672\u001b[0m     \u001b[39mself\u001b[39m\u001b[39m.\u001b[39mset_units(default)\n",
      "File \u001b[0;32m~/miniconda/envs/gpu/lib/python3.8/site-packages/matplotlib/category.py:105\u001b[0m, in \u001b[0;36mStrCategoryConverter.default_units\u001b[0;34m(data, axis)\u001b[0m\n\u001b[1;32m    103\u001b[0m \u001b[39m# the conversion call stack is default_units -> axis_info -> convert\u001b[39;00m\n\u001b[1;32m    104\u001b[0m \u001b[39mif\u001b[39;00m axis\u001b[39m.\u001b[39munits \u001b[39mis\u001b[39;00m \u001b[39mNone\u001b[39;00m:\n\u001b[0;32m--> 105\u001b[0m     axis\u001b[39m.\u001b[39mset_units(UnitData(data))\n\u001b[1;32m    106\u001b[0m \u001b[39melse\u001b[39;00m:\n\u001b[1;32m    107\u001b[0m     axis\u001b[39m.\u001b[39munits\u001b[39m.\u001b[39mupdate(data)\n",
      "File \u001b[0;32m~/miniconda/envs/gpu/lib/python3.8/site-packages/matplotlib/category.py:181\u001b[0m, in \u001b[0;36mUnitData.__init__\u001b[0;34m(self, data)\u001b[0m\n\u001b[1;32m    179\u001b[0m \u001b[39mself\u001b[39m\u001b[39m.\u001b[39m_counter \u001b[39m=\u001b[39m itertools\u001b[39m.\u001b[39mcount()\n\u001b[1;32m    180\u001b[0m \u001b[39mif\u001b[39;00m data \u001b[39mis\u001b[39;00m \u001b[39mnot\u001b[39;00m \u001b[39mNone\u001b[39;00m:\n\u001b[0;32m--> 181\u001b[0m     \u001b[39mself\u001b[39;49m\u001b[39m.\u001b[39;49mupdate(data)\n",
      "File \u001b[0;32m~/miniconda/envs/gpu/lib/python3.8/site-packages/matplotlib/category.py:214\u001b[0m, in \u001b[0;36mUnitData.update\u001b[0;34m(self, data)\u001b[0m\n\u001b[1;32m    212\u001b[0m \u001b[39m# check if convertible to number:\u001b[39;00m\n\u001b[1;32m    213\u001b[0m convertible \u001b[39m=\u001b[39m \u001b[39mTrue\u001b[39;00m\n\u001b[0;32m--> 214\u001b[0m \u001b[39mfor\u001b[39;00m val \u001b[39min\u001b[39;00m OrderedDict\u001b[39m.\u001b[39;49mfromkeys(data):\n\u001b[1;32m    215\u001b[0m     \u001b[39m# OrderedDict just iterates over unique values in data.\u001b[39;00m\n\u001b[1;32m    216\u001b[0m     _api\u001b[39m.\u001b[39mcheck_isinstance((\u001b[39mstr\u001b[39m, \u001b[39mbytes\u001b[39m), value\u001b[39m=\u001b[39mval)\n\u001b[1;32m    217\u001b[0m     \u001b[39mif\u001b[39;00m convertible:\n\u001b[1;32m    218\u001b[0m         \u001b[39m# this will only be called so long as convertible is True.\u001b[39;00m\n",
      "\u001b[0;31mTypeError\u001b[0m: unhashable type: 'numpy.ndarray'"
     ]
    },
    {
     "data": {
      "image/png": "[encoded data removed]",
      "text/plain": [
       "<Figure size 640x480 with 1 Axes>"
      ]
     },
     "metadata": {},
     "output_type": "display_data"
    }
   ],
   "source": [
    "plt.plot(df[[\"0\",'300','600','OT']].head(60))"
   ]
  },
  {
   "cell_type": "code",
   "execution_count": 3,
   "metadata": {},
   "outputs": [],
   "source": [
    "import os\n",
    "import numpy as np\n",
    "import pandas as pd\n",
    "from torch.utils.data import Dataset\n",
    "from sklearn.preprocessing import StandardScaler\n",
    "from models import TimeLLM\n",
    "from data_provider.data_factory import data_provider\n",
    "import time\n",
    "import torch"
   ]
  },
  {
   "cell_type": "code",
   "execution_count": 4,
   "metadata": {},
   "outputs": [],
   "source": [
    "class Args:\n",
    "    def __init__(self):\n",
    "        self.task_name = 'long_term_forecast'\n",
    "        self.is_training = 1\n",
    "        self.model_id = 'Pretrain'\n",
    "        self.model_comment = 'TimeLLM-Pretrain-13-2500'\n",
    "        self.model = 'TimeLLM'\n",
    "        self.seed = 2021\n",
    "        self.data = 'few_shot_seq'\n",
    "        self.root_path = './dataset'\n",
    "        self.data_path = 'combined_dataframes-72.csv'\n",
    "        self.features = 'MS'\n",
    "        self.target = 'sold_units'\n",
    "        self.loader = 'modal'\n",
    "        self.freq = 'h'\n",
    "        self.checkpoints = './checkpoints/'\n",
    "        self.seq_len = 13\n",
    "        self.label_len = 1\n",
    "        self.pred_len = 1\n",
    "        self.seasonal_patterns = 'Monthly'\n",
    "        self.enc_in = 9\n",
    "        self.dec_in = 9\n",
    "        self.c_out = 9\n",
    "        self.d_model = 32\n",
    "        self.n_heads = 8  # Typically set by your model configuration\n",
    "        self.e_layers = 2  # Typically set by your model configuration\n",
    "        self.d_layers = 1  # Typically set by your model configuration\n",
    "        self.d_ff = 128\n",
    "        self.moving_avg = 25  # Assume default if not specified in the script\n",
    "        self.factor = 3\n",
    "        self.dropout = 0.1  # Assume default if not specified\n",
    "        self.embed = 'timeF'  # Assume default if not specified\n",
    "        self.activation = 'gelu'  # Assume default if not specified\n",
    "        self.output_attention = False  # Assume default if not specified\n",
    "        self.patch_len = 16  # Assume default if not specified\n",
    "        self.stride = 8  # Assume default if not specified\n",
    "        self.prompt_domain = 0  # Assume default if not specified\n",
    "        self.llm_model = 'GPT2'\n",
    "        self.llm_dim = 768\n",
    "        self.num_workers = 10  # Default setting\n",
    "        self.itr = 1\n",
    "        self.train_epochs = 2\n",
    "        self.align_epochs = 10  # Assume default if not specified\n",
    "        self.batch_size = 1\n",
    "        self.eval_batch_size = 8  # Assume default if not specified\n",
    "        self.patience = 10  # Assume default if not specified\n",
    "        self.learning_rate = 0.00001\n",
    "        self.des = 'Exp'\n",
    "        self.loss = 'MSE'  # Assume default if not specified\n",
    "        self.lradj = 'type1'  # Assume default if not specified\n",
    "        self.pct_start = 0.2  # Assume default if not specified\n",
    "        self.use_amp = False  # Assume default based on your environment capabilities\n",
    "        self.llm_layers = 32\n",
    "        self.percent = 100  # Assume default if not specified\n",
    "\n",
    "# Instantiate the Args\n",
    "args = Args()"
   ]
  },
  {
   "cell_type": "code",
   "execution_count": 5,
   "metadata": {},
   "outputs": [],
   "source": [
    "combined_dataframes = pd.read_csv('./dataset/combined_dataframes-72.csv')"
   ]
  },
  {
   "cell_type": "code",
   "execution_count": 6,
   "metadata": {},
   "outputs": [
    {
     "data": {
      "text/plain": [
       "<All keys matched successfully>"
      ]
     },
     "execution_count": 6,
     "metadata": {},
     "output_type": "execute_result"
    }
   ],
   "source": [
    "path = 'checkpoints/long_term_forecast_Pretrain_TimeLLM_ETTh1_ftMS_sl13_ll1_pl1_dm32_nh8_el2_dl1_df128_fc3_ebtimeF_Exp_0-TimeLLM-Pretrain-13-2500/checkpoint'\n",
    "\n",
    "# Load the checkpoint\n",
    "model = TimeLLM.Model(args).float()\n",
    "model.load_state_dict(torch.load(path), strict=False)"
   ]
  },
  {
   "cell_type": "code",
   "execution_count": 7,
   "metadata": {},
   "outputs": [],
   "source": [
    "from data_provider.data_loader import Dataset_few_shot_seq\n",
    "from torch.utils.data import DataLoader"
   ]
  },
  {
   "cell_type": "code",
   "execution_count": 8,
   "metadata": {},
   "outputs": [],
   "source": [
    "def data_provider(args, flag, data):\n",
    "    \n",
    "    timeenc = 0 if args.embed != 'timeF' else 1\n",
    "    percent = args.percent\n",
    "\n",
    "    if flag == 'test' or flag == 'few_shot': # zero shot not few shot\n",
    "        shuffle_flag = False\n",
    "        drop_last = True\n",
    "        batch_size = args.batch_size\n",
    "        freq = args.freq\n",
    "    else:\n",
    "        shuffle_flag = True\n",
    "        drop_last = True\n",
    "        batch_size = args.batch_size\n",
    "        freq = args.freq\n",
    "\n",
    "    data_set = Dataset_few_shot_seq(\n",
    "        root_path=args.root_path,\n",
    "        data_path=args.data_path,\n",
    "        flag=flag,\n",
    "        size=[args.seq_len, args.label_len, args.pred_len],\n",
    "        features=args.features,\n",
    "        target=args.target,\n",
    "        timeenc=timeenc,\n",
    "        freq=freq,\n",
    "        percent=percent,\n",
    "        seasonal_patterns=args.seasonal_patterns,\n",
    "        df=data,\n",
    "        scale = True\n",
    "    )\n",
    "    data_loader = DataLoader(\n",
    "        data_set,\n",
    "        batch_size=batch_size,\n",
    "        shuffle=shuffle_flag,\n",
    "        num_workers=args.num_workers,\n",
    "        drop_last=drop_last)\n",
    "    return data_set, data_loader"
   ]
  },
  {
   "cell_type": "code",
   "execution_count": 9,
   "metadata": {},
   "outputs": [],
   "source": [
    "product_index = 69"
   ]
  },
  {
   "cell_type": "code",
   "execution_count": 10,
   "metadata": {},
   "outputs": [],
   "source": [
    "data = combined_dataframes[72*product_index:72*(product_index+1)]"
   ]
  },
  {
   "cell_type": "code",
   "execution_count": 40,
   "metadata": {},
   "outputs": [],
   "source": [
    "vali_data, vali_loader = data_provider(args, 'val', data)\n"
   ]
  },
  {
   "cell_type": "code",
   "execution_count": 41,
   "metadata": {},
   "outputs": [
    {
     "data": {
      "text/plain": [
       "(28, 3)"
      ]
     },
     "execution_count": 41,
     "metadata": {},
     "output_type": "execute_result"
    }
   ],
   "source": [
    "vali_data.data_x.shape"
   ]
  },
  {
   "cell_type": "code",
   "execution_count": 11,
   "metadata": {},
   "outputs": [],
   "source": [
    "train_data, train_loader = data_provider(args, 'train', data)\n",
    "\n",
    "vali_data, vali_loader = data_provider(args, 'val', data)\n",
    "\n",
    "test_data, test_loader = data_provider(args, 'test', data)\n",
    "\n",
    "\n",
    "\n",
    "time_now = time.time()\n",
    "\n",
    "\n",
    "\n",
    "train_steps = len(train_loader)\n",
    "\n",
    "early_stopping = EarlyStopping(accelerator=accelerator, patience=args.patience)\n",
    "\n",
    "\n",
    "\n",
    "trained_parameters = []\n",
    "\n",
    "for p in model.parameters():\n",
    "\n",
    "    if p.requires_grad is True:\n",
    "\n",
    "        trained_parameters.append(p)\n",
    "\n",
    "\n",
    "\n",
    "model_optim = optim.Adam(trained_parameters, lr=args.learning_rate)\n",
    "\n",
    "\n",
    "\n",
    "if args.lradj == 'COS':\n",
    "\n",
    "    scheduler = torch.optim.lr_scheduler.CosineAnnealingLR(model_optim, T_max=20, eta_min=1e-8)\n",
    "\n",
    "else:\n",
    "\n",
    "    scheduler = lr_scheduler.OneCycleLR(optimizer=model_optim,\n",
    "\n",
    "                                        steps_per_epoch=train_steps,\n",
    "\n",
    "                                        pct_start=args.pct_start,\n",
    "\n",
    "                                        epochs=args.train_epochs,\n",
    "\n",
    "                                        max_lr=args.learning_rate)\n",
    "\n",
    "\n",
    "\n",
    "train_loader, vali_loader, test_loader, model, model_optim, scheduler = accelerator.prepare(\n",
    "\n",
    "        train_loader, vali_loader, test_loader, model, model_optim, scheduler)"
   ]
  },
  {
   "cell_type": "code",
   "execution_count": 9,
   "metadata": {},
   "outputs": [],
   "source": [
    "criterion = nn.MSELoss()\n",
    "mae_metric = nn.L1Loss()"
   ]
  },
  {
   "cell_type": "code",
   "execution_count": 13,
   "metadata": {},
   "outputs": [
    {
     "name": "stderr",
     "output_type": "stream",
     "text": [
      "90it [00:12,  6.96it/s]\n"
     ]
    },
    {
     "name": "stdout",
     "output_type": "stream",
     "text": [
      "Epoch: 1 cost time: 12.93822431564331\n"
     ]
    },
    {
     "name": "stderr",
     "output_type": "stream",
     "text": [
      "45it [00:02, 15.12it/s]\n",
      "42it [00:02, 15.16it/s]\n"
     ]
    },
    {
     "name": "stdout",
     "output_type": "stream",
     "text": [
      "Epoch: 1 | Train Loss: 0.7169659 Vali Loss: 0.9061588 Test Loss: 0.9577526 MAE Loss: 0.7775936\n",
      "lr = 0.0000004000\n",
      "Updating learning rate to 3.9999999999999956e-07\n"
     ]
    },
    {
     "name": "stderr",
     "output_type": "stream",
     "text": [
      "90it [00:11,  7.70it/s]\n"
     ]
    },
    {
     "name": "stdout",
     "output_type": "stream",
     "text": [
      "Epoch: 2 cost time: 11.6873197555542\n"
     ]
    },
    {
     "name": "stderr",
     "output_type": "stream",
     "text": [
      "45it [00:02, 16.44it/s]\n",
      "42it [00:02, 16.09it/s]"
     ]
    },
    {
     "name": "stdout",
     "output_type": "stream",
     "text": [
      "Epoch: 2 | Train Loss: 0.6726430 Vali Loss: 0.8954529 Test Loss: 0.9393909 MAE Loss: 0.7674932\n",
      "Updating learning rate to 1.9999999999999978e-07\n",
      "training is done\n"
     ]
    },
    {
     "name": "stderr",
     "output_type": "stream",
     "text": [
      "\n"
     ]
    }
   ],
   "source": [
    "\n",
    "\n",
    "if args.use_amp:\n",
    "    scaler = torch.cuda.amp.GradScaler()\n",
    "\n",
    "for epoch in range(args.train_epochs):\n",
    "    iter_count = 0\n",
    "    train_loss = []\n",
    "\n",
    "    model.train()\n",
    "    epoch_time = time.time()\n",
    "    for i, (batch_x, batch_y, batch_x_mark, batch_y_mark) in tqdm(enumerate(train_loader)):\n",
    "        iter_count += 1\n",
    "        model_optim.zero_grad()\n",
    "\n",
    "        batch_x = batch_x.float().to(accelerator.device)\n",
    "        batch_y = batch_y.float().to(accelerator.device)\n",
    "        batch_x_mark = batch_x_mark.float().to(accelerator.device)\n",
    "        batch_y_mark = batch_y_mark.float().to(accelerator.device)\n",
    "\n",
    "        # decoder input\n",
    "        dec_inp = torch.zeros_like(batch_y[:, -args.pred_len:, :]).float().to(\n",
    "            accelerator.device)\n",
    "        dec_inp = torch.cat([batch_y[:, :args.label_len, :], dec_inp], dim=1).float().to(\n",
    "            accelerator.device)\n",
    "\n",
    "        # encoder - decoder\n",
    "        if args.use_amp:\n",
    "            with torch.cuda.amp.autocast(dtype=torch.float32):\n",
    "                print(\"batch_x dtype:\", batch_x.dtype)\n",
    "                print(\"batch_y dtype:\", batch_y.dtype)\n",
    "                print(\"dec_inp dtype:\", dec_inp.dtype)\n",
    "                if args.output_attention:\n",
    "                    outputs = model(batch_x, batch_x_mark, dec_inp, batch_y_mark)[0]\n",
    "                else:\n",
    "                    outputs = model(batch_x, batch_x_mark, dec_inp, batch_y_mark)\n",
    "\n",
    "                f_dim = -1 if args.features == 'MS' else 0\n",
    "                outputs = outputs[:, -args.pred_len:, f_dim:]\n",
    "                batch_y = batch_y[:, -args.pred_len:, f_dim:].to(accelerator.device)\n",
    "                loss = criterion(outputs, batch_y)\n",
    "                train_loss.append(loss.item())\n",
    "        else:\n",
    "            with torch.cuda.amp.autocast():\n",
    "                if args.output_attention:\n",
    "                    outputs = model(batch_x, batch_x_mark, dec_inp, batch_y_mark)[0]\n",
    "                else:\n",
    "                    outputs = model(batch_x, batch_x_mark, dec_inp, batch_y_mark)\n",
    "\n",
    "                f_dim = -1 if args.features == 'MS' else 0\n",
    "                outputs = outputs[:, -args.pred_len:, f_dim:]\n",
    "                batch_y = batch_y[:, -args.pred_len:, f_dim:]\n",
    "                loss = criterion(outputs, batch_y)\n",
    "                train_loss.append(loss.item())\n",
    "\n",
    "        if (i + 1) % 100 == 0:\n",
    "            accelerator.print(\n",
    "                \"\\titers: {0}, epoch: {1} | loss: {2:.7f}\".format(i + 1, epoch + 1, loss.item()))\n",
    "            speed = (time.time() - time_now) / iter_count\n",
    "            left_time = speed * ((args.train_epochs - epoch) * train_steps - i)\n",
    "            accelerator.print('\\tspeed: {:.4f}s/iter; left time: {:.4f}s'.format(speed, left_time))\n",
    "            iter_count = 0\n",
    "            time_now = time.time()\n",
    "\n",
    "        if args.use_amp:\n",
    "            scaler.scale(loss).backward()\n",
    "            scaler.step(model_optim)\n",
    "            scaler.update()\n",
    "        else:\n",
    "            accelerator.backward(loss)\n",
    "            model_optim.step()\n",
    "\n",
    "        if args.lradj == 'TST':\n",
    "            adjust_learning_rate(accelerator, model_optim, scheduler, epoch + 1, args, printout=False)\n",
    "            scheduler.step()\n",
    "\n",
    "    accelerator.print(\"Epoch: {} cost time: {}\".format(epoch + 1, time.time() - epoch_time))\n",
    "    train_loss = np.average(train_loss)\n",
    "    with torch.cuda.amp.autocast():\n",
    "        vali_loss, vali_mae_loss = vali(args, accelerator, model, vali_data, vali_loader, criterion, mae_metric)\n",
    "        test_loss, test_mae_loss = vali(args, accelerator, model, test_data, test_loader, criterion, mae_metric)\n",
    "    accelerator.print(\n",
    "        \"Epoch: {0} | Train Loss: {1:.7f} Vali Loss: {2:.7f} Test Loss: {3:.7f} MAE Loss: {4:.7f}\".format(\n",
    "            epoch + 1, train_loss, vali_loss, test_loss, test_mae_loss))\n",
    "\n",
    "    #early_stopping(vali_loss, model, path)\n",
    "    #if early_stopping.early_stop:\n",
    "        #accelerator.print(\"Early stopping\")\n",
    "        #break\n",
    "\n",
    "    if args.lradj != 'TST':\n",
    "        if args.lradj == 'COS':\n",
    "            scheduler.step()\n",
    "            accelerator.print(\"lr = {:.10f}\".format(model_optim.param_groups[0]['lr']))\n",
    "        else:\n",
    "            if epoch == 0:\n",
    "                args.learning_rate = model_optim.param_groups[0]['lr']\n",
    "                accelerator.print(\"lr = {:.10f}\".format(model_optim.param_groups[0]['lr']))\n",
    "            adjust_learning_rate(accelerator, model_optim, scheduler, epoch + 1, args, printout=True)\n",
    "\n",
    "    else:\n",
    "        accelerator.print('Updating learning rate to {}'.format(scheduler.get_last_lr()[0]))\n",
    "\n",
    "accelerator.wait_for_everyone()\n",
    "if accelerator.is_local_main_process:\n",
    "    path = './checkpoints'  # unique checkpoint saving path\n",
    "    #del_files(path)  # delete checkpoint files\n",
    "    accelerator.print('training is done')"
   ]
  },
  {
   "cell_type": "code",
   "execution_count": null,
   "metadata": {},
   "outputs": [],
   "source": []
  },
  {
   "cell_type": "code",
   "execution_count": 52,
   "metadata": {},
   "outputs": [],
   "source": [
    "from torch.cuda.amp import autocast, GradScaler\n",
    "\n",
    "# Setup scaler for managing precision\n",
    "model.eval()\n",
    "scaler = GradScaler()\n",
    "MSE_loss = list()\n",
    "MAE_loss = list()\n",
    "predictions = list()\n",
    "true_labels = list()\n",
    "with torch.no_grad():  # No need to compute gradients during inference\n",
    "    train_loss_mse = list()\n",
    "    train_loss_mae = list()\n",
    "    for batch_x, batch_y, batch_x_mark, batch_y_mark in test_loader:\n",
    "        batch_x = batch_x.float().to(accelerator.device)\n",
    "        batch_y = batch_y.float().to(accelerator.device)\n",
    "        batch_x_mark = batch_x_mark.float().to(accelerator.device)\n",
    "        batch_y_mark = batch_y_mark.float().to(accelerator.device)\n",
    "\n",
    "        # Prepare decoder input as zeros initially, similar to training phase setup\n",
    "        dec_inp = torch.zeros_like(batch_y[:, -args.pred_len:, :]).to(accelerator.device)\n",
    "        dec_inp = torch.cat([batch_y[:, :args.label_len, :], dec_inp], dim=1)\n",
    "        \n",
    "        # Using autocast for automatic mixed precision\n",
    "        with autocast():\n",
    "            if args.output_attention:\n",
    "                output, _ = model(batch_x, batch_x_mark, dec_inp, batch_y_mark)\n",
    "            else:\n",
    "                output = model(batch_x, batch_x_mark, dec_inp, batch_y_mark)\n",
    "\n",
    "            output = output[:, -args.pred_len:, :]  # Adjust based on the output dimensions if needed\n",
    "        loss = criterion(output, batch_y[:, -args.pred_len:, :])\n",
    "        train_loss_mse.append(loss.item())\n",
    "        loss = mae_metric(output, batch_y[:, -args.pred_len:, :])\n",
    "        train_loss_mae.append(loss.item())\n",
    "    \n",
    "        predictions.append(output.cpu().numpy())\n",
    "        true_labels.append(batch_y[:, -args.pred_len:, :].cpu().numpy())\n",
    "    \n",
    "# Convert list of arrays to a single numpy array\n",
    "predictions = np.concatenate(predictions, axis=0)\n",
    "true_labels = np.concatenate(true_labels, axis=0)\n",
    "MAE_loss.append(np.average(train_loss_mae))\n",
    "MSE_loss.append(np.average(train_loss_mse))\n"
   ]
  },
  {
   "cell_type": "code",
   "execution_count": 53,
   "metadata": {},
   "outputs": [
    {
     "data": {
      "text/plain": [
       "([0.7674932451475234], [0.9393909383999839])"
      ]
     },
     "execution_count": 53,
     "metadata": {},
     "output_type": "execute_result"
    }
   ],
   "source": [
    "MAE_loss, MSE_loss"
   ]
  },
  {
   "cell_type": "code",
   "execution_count": 25,
   "metadata": {},
   "outputs": [
    {
     "data": {
      "text/plain": [
       "(array([[1.61713742],\n",
       "        [1.61713742]]),\n",
       " array([[1.6171374]], dtype=float32))"
      ]
     },
     "execution_count": 25,
     "metadata": {},
     "output_type": "execute_result"
    }
   ],
   "source": [
    "test_data[0][1], true_labels[0]"
   ]
  },
  {
   "cell_type": "code",
   "execution_count": 55,
   "metadata": {},
   "outputs": [
    {
     "data": {
      "image/png": "[encoded data removed]",
      "text/plain": [
       "<Figure size 1200x600 with 1 Axes>"
      ]
     },
     "metadata": {},
     "output_type": "display_data"
    }
   ],
   "source": [
    "import matplotlib.pyplot as plt\n",
    "%matplotlib inline\n",
    "# Assuming predictions and true_labels are numpy arrays of the same shape\n",
    "plt.figure(figsize=(12, 6))\n",
    "plt.plot(true_labels[:, 0], label='Actual Data', color='blue')  # Adjust indexing based on your data shape\n",
    "plt.plot(predictions[:, 0], label='Predicted Data', color='red')  # Adjust indexing based on your data shape\n",
    "plt.title('Time Series Forecasting')\n",
    "plt.xlabel('Time Steps')\n",
    "plt.ylabel('Values')\n",
    "plt.legend()\n",
    "plt.show()"
   ]
  },
  {
   "cell_type": "code",
   "execution_count": null,
   "metadata": {},
   "outputs": [
    {
     "data": {
      "image/png": "[encoded data removed]",
      "text/plain": [
       "<Figure size 1200x600 with 1 Axes>"
      ]
     },
     "metadata": {},
     "output_type": "display_data"
    }
   ],
   "source": [
    "import matplotlib.pyplot as plt\n",
    "%matplotlib inline\n",
    "# Assuming predictions and true_labels are numpy arrays of the same shape\n",
    "plt.figure(figsize=(12, 6))\n",
    "plt.plot(true_labels[predictions.shape[0]//3*2::, 0], label='Actual Data', color='blue')  # Adjust indexing based on your data shape\n",
    "plt.plot(predictions[predictions.shape[0]//3*2::, 0], label='Predicted Data', color='red')  # Adjust indexing based on your data shape\n",
    "plt.title('Time Series Forecasting')\n",
    "plt.xlabel('Time Steps')\n",
    "plt.ylabel('Values')\n",
    "plt.legend()\n",
    "plt.show()"
   ]
  },
  {
   "cell_type": "markdown",
   "metadata": {},
   "source": [
    "# Scaling"
   ]
  },
  {
   "cell_type": "code",
   "execution_count": null,
   "metadata": {},
   "outputs": [],
   "source": []
  },
  {
   "cell_type": "code",
   "execution_count": null,
   "metadata": {},
   "outputs": [
    {
     "data": {
      "image/png": "[encoded data removed]",
      "text/plain": [
       "<Figure size 1200x600 with 1 Axes>"
      ]
     },
     "metadata": {},
     "output_type": "display_data"
    }
   ],
   "source": [
    "import matplotlib.pyplot as plt\n",
    "%matplotlib inline\n",
    "# Assuming predictions and true_labels are numpy arrays of the same shape\n",
    "plt.figure(figsize=(12, 6))\n",
    "plt.plot(true_labels[59*2:, 0]*train_data.std[2] + train_data.mean[2], label='Actual Data', color='blue')  # Adjust indexing based on your data shape\n",
    "plt.plot(predictions[59*2:, 0]*train_data.std[2] + train_data.mean[2], label='Predicted Data', color='red')  # Adjust indexing based on your data shape\n",
    "plt.title('Time Series Forecasting')\n",
    "plt.xlabel('Time Steps')\n",
    "plt.ylabel('Values')\n",
    "plt.legend()\n",
    "plt.show()"
   ]
  },
  {
   "cell_type": "markdown",
   "metadata": {},
   "source": [
    "# Fine tuning"
   ]
  },
  {
   "cell_type": "code",
   "execution_count": 10,
   "metadata": {},
   "outputs": [
    {
     "name": "stdout",
     "output_type": "stream",
     "text": [
      "Starting fine-tuning on product 0\n"
     ]
    },
    {
     "name": "stderr",
     "output_type": "stream",
     "text": [
      "90it [00:12,  7.13it/s]\n"
     ]
    },
    {
     "name": "stdout",
     "output_type": "stream",
     "text": [
      "Epoch: 1 cost time: 12.620936632156372\n"
     ]
    },
    {
     "name": "stderr",
     "output_type": "stream",
     "text": [
      "45it [00:02, 15.65it/s]\n",
      "42it [00:02, 15.73it/s]\n"
     ]
    },
    {
     "name": "stdout",
     "output_type": "stream",
     "text": [
      "Epoch: 1 | Train Loss: 0.3021652 Vali Loss: 0.5750351 Test Loss: 0.5706799 MAE Loss: 0.5728618\n",
      "lr = 0.0000004000\n",
      "Updating learning rate to 1e-05\n"
     ]
    },
    {
     "name": "stderr",
     "output_type": "stream",
     "text": [
      "90it [00:11,  7.56it/s]\n"
     ]
    },
    {
     "name": "stdout",
     "output_type": "stream",
     "text": [
      "Epoch: 2 cost time: 11.900231838226318\n"
     ]
    },
    {
     "name": "stderr",
     "output_type": "stream",
     "text": [
      "45it [00:02, 15.91it/s]\n",
      "42it [00:02, 15.90it/s]\n"
     ]
    },
    {
     "name": "stdout",
     "output_type": "stream",
     "text": [
      "Epoch: 2 | Train Loss: 0.3358730 Vali Loss: 0.5570341 Test Loss: 0.4714026 MAE Loss: 0.5056730\n",
      "Updating learning rate to 5e-06\n",
      "Training is done for product 0\n",
      "Starting fine-tuning on product 1\n"
     ]
    },
    {
     "name": "stderr",
     "output_type": "stream",
     "text": [
      "90it [00:11,  7.59it/s]\n"
     ]
    },
    {
     "name": "stdout",
     "output_type": "stream",
     "text": [
      "Epoch: 1 cost time: 11.857954263687134\n"
     ]
    },
    {
     "name": "stderr",
     "output_type": "stream",
     "text": [
      "45it [00:02, 15.46it/s]\n",
      "42it [00:02, 15.49it/s]\n"
     ]
    },
    {
     "name": "stdout",
     "output_type": "stream",
     "text": [
      "Epoch: 1 | Train Loss: 0.6050617 Vali Loss: 0.5251672 Test Loss: 0.3112757 MAE Loss: 0.4440070\n",
      "lr = 0.0000004000\n",
      "Updating learning rate to 1e-05\n"
     ]
    },
    {
     "name": "stderr",
     "output_type": "stream",
     "text": [
      "90it [00:11,  7.71it/s]\n"
     ]
    },
    {
     "name": "stdout",
     "output_type": "stream",
     "text": [
      "Epoch: 2 cost time: 11.68001103401184\n"
     ]
    },
    {
     "name": "stderr",
     "output_type": "stream",
     "text": [
      "45it [00:02, 16.36it/s]\n",
      "42it [00:02, 15.37it/s]\n"
     ]
    },
    {
     "name": "stdout",
     "output_type": "stream",
     "text": [
      "Epoch: 2 | Train Loss: 0.4551680 Vali Loss: 0.5620162 Test Loss: 0.3484508 MAE Loss: 0.4575181\n",
      "Updating learning rate to 5e-06\n",
      "Training is done for product 1\n",
      "Starting fine-tuning on product 2\n"
     ]
    },
    {
     "name": "stderr",
     "output_type": "stream",
     "text": [
      "90it [00:11,  7.74it/s]\n"
     ]
    },
    {
     "name": "stdout",
     "output_type": "stream",
     "text": [
      "Epoch: 1 cost time: 11.635253429412842\n"
     ]
    },
    {
     "name": "stderr",
     "output_type": "stream",
     "text": [
      "45it [00:02, 16.07it/s]\n",
      "42it [00:02, 16.07it/s]\n"
     ]
    },
    {
     "name": "stdout",
     "output_type": "stream",
     "text": [
      "Epoch: 1 | Train Loss: 0.6438113 Vali Loss: 0.5320940 Test Loss: 0.6155752 MAE Loss: 0.6582750\n",
      "lr = 0.0000004000\n",
      "Updating learning rate to 1e-05\n"
     ]
    },
    {
     "name": "stderr",
     "output_type": "stream",
     "text": [
      "90it [00:11,  7.70it/s]\n"
     ]
    },
    {
     "name": "stdout",
     "output_type": "stream",
     "text": [
      "Epoch: 2 cost time: 11.684273719787598\n"
     ]
    },
    {
     "name": "stderr",
     "output_type": "stream",
     "text": [
      "45it [00:02, 15.67it/s]\n",
      "42it [00:02, 16.06it/s]\n"
     ]
    },
    {
     "name": "stdout",
     "output_type": "stream",
     "text": [
      "Epoch: 2 | Train Loss: 0.5737324 Vali Loss: 0.4928246 Test Loss: 0.5900801 MAE Loss: 0.6145532\n",
      "Updating learning rate to 5e-06\n",
      "Training is done for product 2\n",
      "Starting fine-tuning on product 3\n"
     ]
    },
    {
     "name": "stderr",
     "output_type": "stream",
     "text": [
      "90it [00:11,  7.65it/s]\n"
     ]
    },
    {
     "name": "stdout",
     "output_type": "stream",
     "text": [
      "Epoch: 1 cost time: 11.77438759803772\n"
     ]
    },
    {
     "name": "stderr",
     "output_type": "stream",
     "text": [
      "45it [00:02, 15.73it/s]\n",
      "42it [00:02, 15.42it/s]\n"
     ]
    },
    {
     "name": "stdout",
     "output_type": "stream",
     "text": [
      "Epoch: 1 | Train Loss: 1.0819447 Vali Loss: 1.4275753 Test Loss: 1.5839295 MAE Loss: 0.9385506\n",
      "lr = 0.0000004000\n",
      "Updating learning rate to 1e-05\n"
     ]
    },
    {
     "name": "stderr",
     "output_type": "stream",
     "text": [
      "90it [00:11,  7.59it/s]\n"
     ]
    },
    {
     "name": "stdout",
     "output_type": "stream",
     "text": [
      "Epoch: 2 cost time: 11.869556188583374\n"
     ]
    },
    {
     "name": "stderr",
     "output_type": "stream",
     "text": [
      "45it [00:02, 15.46it/s]\n",
      "42it [00:02, 14.81it/s]\n"
     ]
    },
    {
     "name": "stdout",
     "output_type": "stream",
     "text": [
      "Epoch: 2 | Train Loss: 1.0528322 Vali Loss: 1.2668458 Test Loss: 1.4979968 MAE Loss: 0.9196337\n",
      "Updating learning rate to 5e-06\n",
      "Training is done for product 3\n",
      "Starting fine-tuning on product 4\n"
     ]
    },
    {
     "name": "stderr",
     "output_type": "stream",
     "text": [
      "90it [00:11,  7.60it/s]\n"
     ]
    },
    {
     "name": "stdout",
     "output_type": "stream",
     "text": [
      "Epoch: 1 cost time: 11.850901365280151\n"
     ]
    },
    {
     "name": "stderr",
     "output_type": "stream",
     "text": [
      "45it [00:02, 15.83it/s]\n",
      "42it [00:02, 15.64it/s]\n"
     ]
    },
    {
     "name": "stdout",
     "output_type": "stream",
     "text": [
      "Epoch: 1 | Train Loss: 0.7789604 Vali Loss: 0.5672311 Test Loss: 1.1907193 MAE Loss: 0.8215068\n",
      "lr = 0.0000004000\n",
      "Updating learning rate to 1e-05\n"
     ]
    },
    {
     "name": "stderr",
     "output_type": "stream",
     "text": [
      "90it [00:11,  7.57it/s]\n"
     ]
    },
    {
     "name": "stdout",
     "output_type": "stream",
     "text": [
      "Epoch: 2 cost time: 11.887428045272827\n"
     ]
    },
    {
     "name": "stderr",
     "output_type": "stream",
     "text": [
      "45it [00:02, 15.72it/s]\n",
      "42it [00:02, 15.58it/s]\n"
     ]
    },
    {
     "name": "stdout",
     "output_type": "stream",
     "text": [
      "Epoch: 2 | Train Loss: 0.6707425 Vali Loss: 0.5375204 Test Loss: 1.2380720 MAE Loss: 0.8200001\n",
      "Updating learning rate to 5e-06\n",
      "Training is done for product 4\n",
      "Starting fine-tuning on product 5\n"
     ]
    },
    {
     "name": "stderr",
     "output_type": "stream",
     "text": [
      "90it [00:11,  7.65it/s]\n"
     ]
    },
    {
     "name": "stdout",
     "output_type": "stream",
     "text": [
      "Epoch: 1 cost time: 11.773855686187744\n"
     ]
    },
    {
     "name": "stderr",
     "output_type": "stream",
     "text": [
      "45it [00:02, 15.73it/s]\n",
      "42it [00:02, 16.14it/s]\n"
     ]
    },
    {
     "name": "stdout",
     "output_type": "stream",
     "text": [
      "Epoch: 1 | Train Loss: 0.3148566 Vali Loss: 3.1709470 Test Loss: 1.3716266 MAE Loss: 0.8572638\n",
      "lr = 0.0000004000\n",
      "Updating learning rate to 1e-05\n"
     ]
    },
    {
     "name": "stderr",
     "output_type": "stream",
     "text": [
      "90it [00:11,  7.81it/s]\n"
     ]
    },
    {
     "name": "stdout",
     "output_type": "stream",
     "text": [
      "Epoch: 2 cost time: 11.52479338645935\n"
     ]
    },
    {
     "name": "stderr",
     "output_type": "stream",
     "text": [
      "45it [00:02, 15.82it/s]\n",
      "42it [00:02, 14.87it/s]\n"
     ]
    },
    {
     "name": "stdout",
     "output_type": "stream",
     "text": [
      "Epoch: 2 | Train Loss: 0.3154825 Vali Loss: 4.0643665 Test Loss: 0.9439751 MAE Loss: 0.7379633\n",
      "Updating learning rate to 5e-06\n",
      "Training is done for product 5\n",
      "Starting fine-tuning on product 6\n"
     ]
    },
    {
     "name": "stderr",
     "output_type": "stream",
     "text": [
      "90it [00:11,  7.55it/s]\n"
     ]
    },
    {
     "name": "stdout",
     "output_type": "stream",
     "text": [
      "Epoch: 1 cost time: 11.923626184463501\n"
     ]
    },
    {
     "name": "stderr",
     "output_type": "stream",
     "text": [
      "45it [00:02, 15.98it/s]\n",
      "42it [00:02, 15.66it/s]\n"
     ]
    },
    {
     "name": "stdout",
     "output_type": "stream",
     "text": [
      "Epoch: 1 | Train Loss: 0.7709743 Vali Loss: 0.8836104 Test Loss: 0.8652200 MAE Loss: 0.6970580\n",
      "lr = 0.0000004000\n",
      "Updating learning rate to 1e-05\n"
     ]
    },
    {
     "name": "stderr",
     "output_type": "stream",
     "text": [
      "90it [00:11,  7.62it/s]\n"
     ]
    },
    {
     "name": "stdout",
     "output_type": "stream",
     "text": [
      "Epoch: 2 cost time: 11.812066555023193\n"
     ]
    },
    {
     "name": "stderr",
     "output_type": "stream",
     "text": [
      "45it [00:02, 15.39it/s]\n",
      "42it [00:02, 15.51it/s]\n"
     ]
    },
    {
     "name": "stdout",
     "output_type": "stream",
     "text": [
      "Epoch: 2 | Train Loss: 0.8172115 Vali Loss: 0.8639215 Test Loss: 0.7665299 MAE Loss: 0.6975995\n",
      "Updating learning rate to 5e-06\n",
      "Training is done for product 6\n",
      "Starting fine-tuning on product 7\n"
     ]
    },
    {
     "name": "stderr",
     "output_type": "stream",
     "text": [
      "90it [00:11,  7.65it/s]\n"
     ]
    },
    {
     "name": "stdout",
     "output_type": "stream",
     "text": [
      "Epoch: 1 cost time: 11.77110743522644\n"
     ]
    },
    {
     "name": "stderr",
     "output_type": "stream",
     "text": [
      "45it [00:02, 15.11it/s]\n",
      "42it [00:02, 15.55it/s]\n"
     ]
    },
    {
     "name": "stdout",
     "output_type": "stream",
     "text": [
      "Epoch: 1 | Train Loss: 0.2336312 Vali Loss: 0.1830044 Test Loss: 0.4696981 MAE Loss: 0.4160493\n",
      "lr = 0.0000004000\n",
      "Updating learning rate to 1e-05\n"
     ]
    },
    {
     "name": "stderr",
     "output_type": "stream",
     "text": [
      "90it [00:11,  7.62it/s]\n"
     ]
    },
    {
     "name": "stdout",
     "output_type": "stream",
     "text": [
      "Epoch: 2 cost time: 11.811145067214966\n"
     ]
    },
    {
     "name": "stderr",
     "output_type": "stream",
     "text": [
      "45it [00:02, 15.67it/s]\n",
      "42it [00:02, 14.68it/s]\n"
     ]
    },
    {
     "name": "stdout",
     "output_type": "stream",
     "text": [
      "Epoch: 2 | Train Loss: 0.1593342 Vali Loss: 0.1561542 Test Loss: 0.5047387 MAE Loss: 0.4602711\n",
      "Updating learning rate to 5e-06\n",
      "Training is done for product 7\n",
      "Starting fine-tuning on product 8\n"
     ]
    },
    {
     "name": "stderr",
     "output_type": "stream",
     "text": [
      "90it [00:11,  7.53it/s]\n"
     ]
    },
    {
     "name": "stdout",
     "output_type": "stream",
     "text": [
      "Epoch: 1 cost time: 11.95226526260376\n"
     ]
    },
    {
     "name": "stderr",
     "output_type": "stream",
     "text": [
      "45it [00:02, 15.55it/s]\n",
      "42it [00:02, 15.32it/s]\n"
     ]
    },
    {
     "name": "stdout",
     "output_type": "stream",
     "text": [
      "Epoch: 1 | Train Loss: 0.6516167 Vali Loss: 0.7471172 Test Loss: 1.6068318 MAE Loss: 0.9375081\n",
      "lr = 0.0000004000\n",
      "Updating learning rate to 1e-05\n"
     ]
    },
    {
     "name": "stderr",
     "output_type": "stream",
     "text": [
      "90it [00:11,  7.57it/s]\n"
     ]
    },
    {
     "name": "stdout",
     "output_type": "stream",
     "text": [
      "Epoch: 2 cost time: 11.899693250656128\n"
     ]
    },
    {
     "name": "stderr",
     "output_type": "stream",
     "text": [
      "45it [00:02, 15.87it/s]\n",
      "42it [00:02, 15.63it/s]\n"
     ]
    },
    {
     "name": "stdout",
     "output_type": "stream",
     "text": [
      "Epoch: 2 | Train Loss: 0.6858003 Vali Loss: 0.6567652 Test Loss: 1.3371384 MAE Loss: 0.8554469\n",
      "Updating learning rate to 5e-06\n",
      "Training is done for product 8\n",
      "Starting fine-tuning on product 9\n"
     ]
    },
    {
     "name": "stderr",
     "output_type": "stream",
     "text": [
      "90it [00:12,  7.43it/s]\n"
     ]
    },
    {
     "name": "stdout",
     "output_type": "stream",
     "text": [
      "Epoch: 1 cost time: 12.111671924591064\n"
     ]
    },
    {
     "name": "stderr",
     "output_type": "stream",
     "text": [
      "45it [00:03, 13.55it/s]\n",
      "42it [00:02, 15.29it/s]\n"
     ]
    },
    {
     "name": "stdout",
     "output_type": "stream",
     "text": [
      "Epoch: 1 | Train Loss: 0.7619385 Vali Loss: 1.6807088 Test Loss: 2.1296000 MAE Loss: 1.0497576\n",
      "lr = 0.0000004000\n",
      "Updating learning rate to 1e-05\n"
     ]
    },
    {
     "name": "stderr",
     "output_type": "stream",
     "text": [
      "90it [00:11,  7.60it/s]\n"
     ]
    },
    {
     "name": "stdout",
     "output_type": "stream",
     "text": [
      "Epoch: 2 cost time: 11.848680973052979\n"
     ]
    },
    {
     "name": "stderr",
     "output_type": "stream",
     "text": [
      "45it [00:02, 15.55it/s]\n",
      "42it [00:02, 14.42it/s]\n"
     ]
    },
    {
     "name": "stdout",
     "output_type": "stream",
     "text": [
      "Epoch: 2 | Train Loss: 0.8721945 Vali Loss: 1.4965276 Test Loss: 2.0278222 MAE Loss: 1.0705652\n",
      "Updating learning rate to 5e-06\n",
      "Training is done for product 9\n",
      "Starting fine-tuning on product 10\n"
     ]
    },
    {
     "name": "stderr",
     "output_type": "stream",
     "text": [
      "90it [00:11,  7.68it/s]\n"
     ]
    },
    {
     "name": "stdout",
     "output_type": "stream",
     "text": [
      "Epoch: 1 cost time: 11.726326704025269\n"
     ]
    },
    {
     "name": "stderr",
     "output_type": "stream",
     "text": [
      "45it [00:02, 16.19it/s]\n",
      "42it [00:02, 16.47it/s]\n"
     ]
    },
    {
     "name": "stdout",
     "output_type": "stream",
     "text": [
      "Epoch: 1 | Train Loss: 0.7236023 Vali Loss: 2.0957182 Test Loss: 1.7516917 MAE Loss: 0.8880830\n",
      "lr = 0.0000004000\n",
      "Updating learning rate to 1e-05\n"
     ]
    },
    {
     "name": "stderr",
     "output_type": "stream",
     "text": [
      "90it [00:11,  7.69it/s]\n"
     ]
    },
    {
     "name": "stdout",
     "output_type": "stream",
     "text": [
      "Epoch: 2 cost time: 11.699802160263062\n"
     ]
    },
    {
     "name": "stderr",
     "output_type": "stream",
     "text": [
      "45it [00:02, 15.16it/s]\n",
      "42it [00:02, 15.52it/s]\n"
     ]
    },
    {
     "name": "stdout",
     "output_type": "stream",
     "text": [
      "Epoch: 2 | Train Loss: 0.6837721 Vali Loss: 2.0050138 Test Loss: 2.0193213 MAE Loss: 0.9373949\n",
      "Updating learning rate to 5e-06\n",
      "Training is done for product 10\n",
      "Starting fine-tuning on product 11\n"
     ]
    },
    {
     "name": "stderr",
     "output_type": "stream",
     "text": [
      "90it [00:11,  7.53it/s]\n"
     ]
    },
    {
     "name": "stdout",
     "output_type": "stream",
     "text": [
      "Epoch: 1 cost time: 11.95578408241272\n"
     ]
    },
    {
     "name": "stderr",
     "output_type": "stream",
     "text": [
      "45it [00:02, 15.25it/s]\n",
      "42it [00:02, 15.65it/s]\n"
     ]
    },
    {
     "name": "stdout",
     "output_type": "stream",
     "text": [
      "Epoch: 1 | Train Loss: 0.3392580 Vali Loss: 1.1098087 Test Loss: 0.7420320 MAE Loss: 0.6636380\n",
      "lr = 0.0000004000\n",
      "Updating learning rate to 1e-05\n"
     ]
    },
    {
     "name": "stderr",
     "output_type": "stream",
     "text": [
      "90it [00:11,  7.50it/s]\n"
     ]
    },
    {
     "name": "stdout",
     "output_type": "stream",
     "text": [
      "Epoch: 2 cost time: 12.00255560874939\n"
     ]
    },
    {
     "name": "stderr",
     "output_type": "stream",
     "text": [
      "45it [00:02, 15.90it/s]\n",
      "42it [00:02, 14.97it/s]\n"
     ]
    },
    {
     "name": "stdout",
     "output_type": "stream",
     "text": [
      "Epoch: 2 | Train Loss: 0.3020132 Vali Loss: 1.1477245 Test Loss: 0.6786510 MAE Loss: 0.6622980\n",
      "Updating learning rate to 5e-06\n",
      "Training is done for product 11\n",
      "Starting fine-tuning on product 12\n"
     ]
    },
    {
     "name": "stderr",
     "output_type": "stream",
     "text": [
      "90it [00:11,  7.54it/s]\n"
     ]
    },
    {
     "name": "stdout",
     "output_type": "stream",
     "text": [
      "Epoch: 1 cost time: 11.94540286064148\n"
     ]
    },
    {
     "name": "stderr",
     "output_type": "stream",
     "text": [
      "45it [00:02, 15.31it/s]\n",
      "42it [00:02, 14.88it/s]\n"
     ]
    },
    {
     "name": "stdout",
     "output_type": "stream",
     "text": [
      "Epoch: 1 | Train Loss: 0.5866206 Vali Loss: 0.8978007 Test Loss: 1.0416428 MAE Loss: 0.7723361\n",
      "lr = 0.0000004000\n",
      "Updating learning rate to 1e-05\n"
     ]
    },
    {
     "name": "stderr",
     "output_type": "stream",
     "text": [
      "90it [00:11,  7.55it/s]\n"
     ]
    },
    {
     "name": "stdout",
     "output_type": "stream",
     "text": [
      "Epoch: 2 cost time: 11.926419496536255\n"
     ]
    },
    {
     "name": "stderr",
     "output_type": "stream",
     "text": [
      "45it [00:02, 15.60it/s]\n",
      "42it [00:02, 15.57it/s]\n"
     ]
    },
    {
     "name": "stdout",
     "output_type": "stream",
     "text": [
      "Epoch: 2 | Train Loss: 0.6510671 Vali Loss: 0.9121678 Test Loss: 1.0008588 MAE Loss: 0.7639036\n",
      "Updating learning rate to 5e-06\n",
      "Training is done for product 12\n",
      "Starting fine-tuning on product 13\n"
     ]
    },
    {
     "name": "stderr",
     "output_type": "stream",
     "text": [
      "90it [00:11,  7.58it/s]\n"
     ]
    },
    {
     "name": "stdout",
     "output_type": "stream",
     "text": [
      "Epoch: 1 cost time: 11.879329204559326\n"
     ]
    },
    {
     "name": "stderr",
     "output_type": "stream",
     "text": [
      "45it [00:02, 16.12it/s]\n",
      "42it [00:02, 15.90it/s]\n"
     ]
    },
    {
     "name": "stdout",
     "output_type": "stream",
     "text": [
      "Epoch: 1 | Train Loss: 0.5618525 Vali Loss: 3.7485495 Test Loss: 1.3538281 MAE Loss: 0.9081624\n",
      "lr = 0.0000004000\n",
      "Updating learning rate to 1e-05\n"
     ]
    },
    {
     "name": "stderr",
     "output_type": "stream",
     "text": [
      "90it [00:11,  7.62it/s]\n"
     ]
    },
    {
     "name": "stdout",
     "output_type": "stream",
     "text": [
      "Epoch: 2 cost time: 11.813921928405762\n"
     ]
    },
    {
     "name": "stderr",
     "output_type": "stream",
     "text": [
      "45it [00:02, 15.27it/s]\n",
      "42it [00:02, 16.07it/s]\n"
     ]
    },
    {
     "name": "stdout",
     "output_type": "stream",
     "text": [
      "Epoch: 2 | Train Loss: 0.5648999 Vali Loss: 3.5047680 Test Loss: 1.3162379 MAE Loss: 0.8632978\n",
      "Updating learning rate to 5e-06\n",
      "Training is done for product 13\n",
      "Starting fine-tuning on product 14\n"
     ]
    },
    {
     "name": "stderr",
     "output_type": "stream",
     "text": [
      "90it [00:11,  7.59it/s]\n"
     ]
    },
    {
     "name": "stdout",
     "output_type": "stream",
     "text": [
      "Epoch: 1 cost time: 11.854628801345825\n"
     ]
    },
    {
     "name": "stderr",
     "output_type": "stream",
     "text": [
      "45it [00:02, 16.25it/s]\n",
      "42it [00:02, 15.58it/s]\n"
     ]
    },
    {
     "name": "stdout",
     "output_type": "stream",
     "text": [
      "Epoch: 1 | Train Loss: 0.5510903 Vali Loss: 0.5919174 Test Loss: 1.2139186 MAE Loss: 0.8059923\n",
      "lr = 0.0000004000\n",
      "Updating learning rate to 1e-05\n"
     ]
    },
    {
     "name": "stderr",
     "output_type": "stream",
     "text": [
      "90it [00:11,  7.80it/s]\n"
     ]
    },
    {
     "name": "stdout",
     "output_type": "stream",
     "text": [
      "Epoch: 2 cost time: 11.54117727279663\n"
     ]
    },
    {
     "name": "stderr",
     "output_type": "stream",
     "text": [
      "45it [00:02, 16.31it/s]\n",
      "42it [00:02, 16.13it/s]\n"
     ]
    },
    {
     "name": "stdout",
     "output_type": "stream",
     "text": [
      "Epoch: 2 | Train Loss: 0.6041607 Vali Loss: 0.6245607 Test Loss: 1.2237259 MAE Loss: 0.8330666\n",
      "Updating learning rate to 5e-06\n",
      "Training is done for product 14\n",
      "Starting fine-tuning on product 15\n"
     ]
    },
    {
     "name": "stderr",
     "output_type": "stream",
     "text": [
      "90it [00:11,  7.85it/s]\n"
     ]
    },
    {
     "name": "stdout",
     "output_type": "stream",
     "text": [
      "Epoch: 1 cost time: 11.471152305603027\n"
     ]
    },
    {
     "name": "stderr",
     "output_type": "stream",
     "text": [
      "45it [00:02, 15.85it/s]\n",
      "42it [00:02, 16.46it/s]\n"
     ]
    },
    {
     "name": "stdout",
     "output_type": "stream",
     "text": [
      "Epoch: 1 | Train Loss: 0.6029780 Vali Loss: 0.7680648 Test Loss: 0.5065599 MAE Loss: 0.5035695\n",
      "lr = 0.0000004000\n",
      "Updating learning rate to 1e-05\n"
     ]
    },
    {
     "name": "stderr",
     "output_type": "stream",
     "text": [
      "90it [00:11,  8.04it/s]\n"
     ]
    },
    {
     "name": "stdout",
     "output_type": "stream",
     "text": [
      "Epoch: 2 cost time: 11.196999073028564\n"
     ]
    },
    {
     "name": "stderr",
     "output_type": "stream",
     "text": [
      "45it [00:02, 16.55it/s]\n",
      "42it [00:02, 15.84it/s]\n"
     ]
    },
    {
     "name": "stdout",
     "output_type": "stream",
     "text": [
      "Epoch: 2 | Train Loss: 0.6015210 Vali Loss: 0.7222593 Test Loss: 0.5609757 MAE Loss: 0.5550033\n",
      "Updating learning rate to 5e-06\n",
      "Training is done for product 15\n",
      "Starting fine-tuning on product 16\n"
     ]
    },
    {
     "name": "stderr",
     "output_type": "stream",
     "text": [
      "90it [00:11,  7.88it/s]\n"
     ]
    },
    {
     "name": "stdout",
     "output_type": "stream",
     "text": [
      "Epoch: 1 cost time: 11.426999568939209\n"
     ]
    },
    {
     "name": "stderr",
     "output_type": "stream",
     "text": [
      "45it [00:02, 15.63it/s]\n",
      "42it [00:02, 15.59it/s]\n"
     ]
    },
    {
     "name": "stdout",
     "output_type": "stream",
     "text": [
      "Epoch: 1 | Train Loss: 0.4587296 Vali Loss: 1.0037014 Test Loss: 0.8431403 MAE Loss: 0.6790530\n",
      "lr = 0.0000004000\n",
      "Updating learning rate to 1e-05\n"
     ]
    },
    {
     "name": "stderr",
     "output_type": "stream",
     "text": [
      "90it [00:11,  7.61it/s]\n"
     ]
    },
    {
     "name": "stdout",
     "output_type": "stream",
     "text": [
      "Epoch: 2 cost time: 11.831965208053589\n"
     ]
    },
    {
     "name": "stderr",
     "output_type": "stream",
     "text": [
      "45it [00:02, 16.68it/s]\n",
      "42it [00:02, 15.76it/s]\n"
     ]
    },
    {
     "name": "stdout",
     "output_type": "stream",
     "text": [
      "Epoch: 2 | Train Loss: 0.5711069 Vali Loss: 0.9812534 Test Loss: 0.9082528 MAE Loss: 0.7360679\n",
      "Updating learning rate to 5e-06\n",
      "Training is done for product 16\n",
      "Starting fine-tuning on product 17\n"
     ]
    },
    {
     "name": "stderr",
     "output_type": "stream",
     "text": [
      "90it [00:11,  7.69it/s]\n"
     ]
    },
    {
     "name": "stdout",
     "output_type": "stream",
     "text": [
      "Epoch: 1 cost time: 11.713152408599854\n"
     ]
    },
    {
     "name": "stderr",
     "output_type": "stream",
     "text": [
      "45it [00:02, 15.69it/s]\n",
      "42it [00:02, 15.70it/s]\n"
     ]
    },
    {
     "name": "stdout",
     "output_type": "stream",
     "text": [
      "Epoch: 1 | Train Loss: 0.4533507 Vali Loss: 0.4870885 Test Loss: 0.5371811 MAE Loss: 0.5746346\n",
      "lr = 0.0000004000\n",
      "Updating learning rate to 1e-05\n"
     ]
    },
    {
     "name": "stderr",
     "output_type": "stream",
     "text": [
      "90it [00:11,  7.69it/s]\n"
     ]
    },
    {
     "name": "stdout",
     "output_type": "stream",
     "text": [
      "Epoch: 2 cost time: 11.704903364181519\n"
     ]
    },
    {
     "name": "stderr",
     "output_type": "stream",
     "text": [
      "45it [00:02, 15.73it/s]\n",
      "42it [00:02, 15.21it/s]\n"
     ]
    },
    {
     "name": "stdout",
     "output_type": "stream",
     "text": [
      "Epoch: 2 | Train Loss: 0.4883860 Vali Loss: 0.4862574 Test Loss: 0.5294981 MAE Loss: 0.5728919\n",
      "Updating learning rate to 5e-06\n",
      "Training is done for product 17\n",
      "Starting fine-tuning on product 18\n"
     ]
    },
    {
     "name": "stderr",
     "output_type": "stream",
     "text": [
      "90it [00:11,  7.72it/s]\n"
     ]
    },
    {
     "name": "stdout",
     "output_type": "stream",
     "text": [
      "Epoch: 1 cost time: 11.655248165130615\n"
     ]
    },
    {
     "name": "stderr",
     "output_type": "stream",
     "text": [
      "45it [00:02, 16.14it/s]\n",
      "42it [00:02, 15.94it/s]\n"
     ]
    },
    {
     "name": "stdout",
     "output_type": "stream",
     "text": [
      "Epoch: 1 | Train Loss: 0.1158764 Vali Loss: 0.1241401 Test Loss: 0.4014538 MAE Loss: 0.3394089\n",
      "lr = 0.0000004000\n",
      "Updating learning rate to 1e-05\n"
     ]
    },
    {
     "name": "stderr",
     "output_type": "stream",
     "text": [
      "90it [00:11,  7.62it/s]\n"
     ]
    },
    {
     "name": "stdout",
     "output_type": "stream",
     "text": [
      "Epoch: 2 cost time: 11.815428972244263\n"
     ]
    },
    {
     "name": "stderr",
     "output_type": "stream",
     "text": [
      "45it [00:02, 15.42it/s]\n",
      "42it [00:02, 15.95it/s]\n"
     ]
    },
    {
     "name": "stdout",
     "output_type": "stream",
     "text": [
      "Epoch: 2 | Train Loss: 0.0848002 Vali Loss: 0.1303376 Test Loss: 0.4104515 MAE Loss: 0.3240068\n",
      "Updating learning rate to 5e-06\n",
      "Training is done for product 18\n",
      "Starting fine-tuning on product 19\n"
     ]
    },
    {
     "name": "stderr",
     "output_type": "stream",
     "text": [
      "90it [00:11,  7.73it/s]\n"
     ]
    },
    {
     "name": "stdout",
     "output_type": "stream",
     "text": [
      "Epoch: 1 cost time: 11.65242338180542\n"
     ]
    },
    {
     "name": "stderr",
     "output_type": "stream",
     "text": [
      "45it [00:02, 15.17it/s]\n",
      "42it [00:02, 15.45it/s]\n"
     ]
    },
    {
     "name": "stdout",
     "output_type": "stream",
     "text": [
      "Epoch: 1 | Train Loss: 0.3838637 Vali Loss: 0.5032927 Test Loss: 0.8107802 MAE Loss: 0.6499568\n",
      "lr = 0.0000004000\n",
      "Updating learning rate to 1e-05\n"
     ]
    },
    {
     "name": "stderr",
     "output_type": "stream",
     "text": [
      "90it [00:11,  7.70it/s]\n"
     ]
    },
    {
     "name": "stdout",
     "output_type": "stream",
     "text": [
      "Epoch: 2 cost time: 11.693331956863403\n"
     ]
    },
    {
     "name": "stderr",
     "output_type": "stream",
     "text": [
      "45it [00:02, 16.03it/s]\n",
      "42it [00:02, 15.66it/s]\n"
     ]
    },
    {
     "name": "stdout",
     "output_type": "stream",
     "text": [
      "Epoch: 2 | Train Loss: 0.3697420 Vali Loss: 0.4908922 Test Loss: 0.8307201 MAE Loss: 0.6343555\n",
      "Updating learning rate to 5e-06\n",
      "Training is done for product 19\n",
      "Starting fine-tuning on product 20\n"
     ]
    },
    {
     "name": "stderr",
     "output_type": "stream",
     "text": [
      "90it [00:11,  7.76it/s]\n"
     ]
    },
    {
     "name": "stdout",
     "output_type": "stream",
     "text": [
      "Epoch: 1 cost time: 11.597599267959595\n"
     ]
    },
    {
     "name": "stderr",
     "output_type": "stream",
     "text": [
      "45it [00:02, 16.55it/s]\n",
      "42it [00:02, 16.08it/s]\n"
     ]
    },
    {
     "name": "stdout",
     "output_type": "stream",
     "text": [
      "Epoch: 1 | Train Loss: 0.3001787 Vali Loss: 0.6158297 Test Loss: 0.8696969 MAE Loss: 0.7157318\n",
      "lr = 0.0000004000\n",
      "Updating learning rate to 1e-05\n"
     ]
    },
    {
     "name": "stderr",
     "output_type": "stream",
     "text": [
      "90it [00:11,  7.82it/s]\n"
     ]
    },
    {
     "name": "stdout",
     "output_type": "stream",
     "text": [
      "Epoch: 2 cost time: 11.510258197784424\n"
     ]
    },
    {
     "name": "stderr",
     "output_type": "stream",
     "text": [
      "45it [00:02, 15.57it/s]\n",
      "42it [00:02, 15.60it/s]\n"
     ]
    },
    {
     "name": "stdout",
     "output_type": "stream",
     "text": [
      "Epoch: 2 | Train Loss: 0.2507437 Vali Loss: 0.5937429 Test Loss: 0.7809963 MAE Loss: 0.6700055\n",
      "Updating learning rate to 5e-06\n",
      "Training is done for product 20\n",
      "Starting fine-tuning on product 21\n"
     ]
    },
    {
     "name": "stderr",
     "output_type": "stream",
     "text": [
      "90it [00:11,  7.69it/s]\n"
     ]
    },
    {
     "name": "stdout",
     "output_type": "stream",
     "text": [
      "Epoch: 1 cost time: 11.714248895645142\n"
     ]
    },
    {
     "name": "stderr",
     "output_type": "stream",
     "text": [
      "45it [00:02, 16.05it/s]\n",
      "42it [00:02, 15.37it/s]\n"
     ]
    },
    {
     "name": "stdout",
     "output_type": "stream",
     "text": [
      "Epoch: 1 | Train Loss: 0.6438234 Vali Loss: 0.8093957 Test Loss: 0.7328902 MAE Loss: 0.6468167\n",
      "lr = 0.0000004000\n",
      "Updating learning rate to 1e-05\n"
     ]
    },
    {
     "name": "stderr",
     "output_type": "stream",
     "text": [
      "90it [00:11,  7.76it/s]\n"
     ]
    },
    {
     "name": "stdout",
     "output_type": "stream",
     "text": [
      "Epoch: 2 cost time: 11.59711217880249\n"
     ]
    },
    {
     "name": "stderr",
     "output_type": "stream",
     "text": [
      "45it [00:02, 16.10it/s]\n",
      "42it [00:02, 15.71it/s]\n"
     ]
    },
    {
     "name": "stdout",
     "output_type": "stream",
     "text": [
      "Epoch: 2 | Train Loss: 0.5860953 Vali Loss: 0.8112718 Test Loss: 0.7396053 MAE Loss: 0.6449525\n",
      "Updating learning rate to 5e-06\n",
      "Training is done for product 21\n",
      "Starting fine-tuning on product 22\n"
     ]
    },
    {
     "name": "stderr",
     "output_type": "stream",
     "text": [
      "90it [00:11,  7.61it/s]\n"
     ]
    },
    {
     "name": "stdout",
     "output_type": "stream",
     "text": [
      "Epoch: 1 cost time: 11.83125376701355\n"
     ]
    },
    {
     "name": "stderr",
     "output_type": "stream",
     "text": [
      "45it [00:02, 15.78it/s]\n",
      "42it [00:02, 15.90it/s]\n"
     ]
    },
    {
     "name": "stdout",
     "output_type": "stream",
     "text": [
      "Epoch: 1 | Train Loss: 0.5270615 Vali Loss: 0.2860427 Test Loss: 0.7330661 MAE Loss: 0.6475949\n",
      "lr = 0.0000004000\n",
      "Updating learning rate to 1e-05\n"
     ]
    },
    {
     "name": "stderr",
     "output_type": "stream",
     "text": [
      "90it [00:11,  7.74it/s]\n"
     ]
    },
    {
     "name": "stdout",
     "output_type": "stream",
     "text": [
      "Epoch: 2 cost time: 11.633349418640137\n"
     ]
    },
    {
     "name": "stderr",
     "output_type": "stream",
     "text": [
      "45it [00:02, 15.54it/s]\n",
      "42it [00:02, 15.72it/s]\n"
     ]
    },
    {
     "name": "stdout",
     "output_type": "stream",
     "text": [
      "Epoch: 2 | Train Loss: 0.6335200 Vali Loss: 0.4035562 Test Loss: 0.7353702 MAE Loss: 0.6885361\n",
      "Updating learning rate to 5e-06\n",
      "Training is done for product 22\n",
      "Starting fine-tuning on product 23\n"
     ]
    },
    {
     "name": "stderr",
     "output_type": "stream",
     "text": [
      "90it [00:11,  7.59it/s]\n"
     ]
    },
    {
     "name": "stdout",
     "output_type": "stream",
     "text": [
      "Epoch: 1 cost time: 11.853064775466919\n"
     ]
    },
    {
     "name": "stderr",
     "output_type": "stream",
     "text": [
      "45it [00:02, 15.82it/s]\n",
      "42it [00:02, 15.52it/s]\n"
     ]
    },
    {
     "name": "stdout",
     "output_type": "stream",
     "text": [
      "Epoch: 1 | Train Loss: 0.5748494 Vali Loss: 0.7175761 Test Loss: 0.8169937 MAE Loss: 0.7009836\n",
      "lr = 0.0000004000\n",
      "Updating learning rate to 1e-05\n"
     ]
    },
    {
     "name": "stderr",
     "output_type": "stream",
     "text": [
      "90it [00:11,  7.75it/s]\n"
     ]
    },
    {
     "name": "stdout",
     "output_type": "stream",
     "text": [
      "Epoch: 2 cost time: 11.622432470321655\n"
     ]
    },
    {
     "name": "stderr",
     "output_type": "stream",
     "text": [
      "45it [00:02, 15.72it/s]\n",
      "42it [00:02, 15.74it/s]\n"
     ]
    },
    {
     "name": "stdout",
     "output_type": "stream",
     "text": [
      "Epoch: 2 | Train Loss: 0.4801278 Vali Loss: 0.7523645 Test Loss: 0.8313823 MAE Loss: 0.7392380\n",
      "Updating learning rate to 5e-06\n",
      "Training is done for product 23\n",
      "Starting fine-tuning on product 24\n"
     ]
    },
    {
     "name": "stderr",
     "output_type": "stream",
     "text": [
      "90it [00:11,  7.58it/s]\n"
     ]
    },
    {
     "name": "stdout",
     "output_type": "stream",
     "text": [
      "Epoch: 1 cost time: 11.876414775848389\n"
     ]
    },
    {
     "name": "stderr",
     "output_type": "stream",
     "text": [
      "45it [00:02, 15.64it/s]\n",
      "42it [00:02, 15.85it/s]\n"
     ]
    },
    {
     "name": "stdout",
     "output_type": "stream",
     "text": [
      "Epoch: 1 | Train Loss: 0.6293876 Vali Loss: 0.3184006 Test Loss: 1.2513714 MAE Loss: 0.7600166\n",
      "lr = 0.0000004000\n",
      "Updating learning rate to 1e-05\n"
     ]
    },
    {
     "name": "stderr",
     "output_type": "stream",
     "text": [
      "90it [00:11,  7.74it/s]\n"
     ]
    },
    {
     "name": "stdout",
     "output_type": "stream",
     "text": [
      "Epoch: 2 cost time: 11.629681825637817\n"
     ]
    },
    {
     "name": "stderr",
     "output_type": "stream",
     "text": [
      "45it [00:02, 16.14it/s]\n",
      "42it [00:02, 16.42it/s]\n"
     ]
    },
    {
     "name": "stdout",
     "output_type": "stream",
     "text": [
      "Epoch: 2 | Train Loss: 0.5860317 Vali Loss: 0.3531811 Test Loss: 1.2075719 MAE Loss: 0.7370705\n",
      "Updating learning rate to 5e-06\n",
      "Training is done for product 24\n",
      "Starting fine-tuning on product 25\n"
     ]
    },
    {
     "name": "stderr",
     "output_type": "stream",
     "text": [
      "90it [00:14,  6.05it/s]\n"
     ]
    },
    {
     "name": "stdout",
     "output_type": "stream",
     "text": [
      "Epoch: 1 cost time: 14.880966663360596\n"
     ]
    },
    {
     "name": "stderr",
     "output_type": "stream",
     "text": [
      "45it [00:02, 15.78it/s]\n",
      "42it [00:02, 15.93it/s]\n"
     ]
    },
    {
     "name": "stdout",
     "output_type": "stream",
     "text": [
      "Epoch: 1 | Train Loss: 0.2837346 Vali Loss: 0.7107747 Test Loss: 0.6523992 MAE Loss: 0.6177060\n",
      "lr = 0.0000004000\n",
      "Updating learning rate to 1e-05\n"
     ]
    },
    {
     "name": "stderr",
     "output_type": "stream",
     "text": [
      "90it [00:15,  5.85it/s]\n"
     ]
    },
    {
     "name": "stdout",
     "output_type": "stream",
     "text": [
      "Epoch: 2 cost time: 15.40059208869934\n"
     ]
    },
    {
     "name": "stderr",
     "output_type": "stream",
     "text": [
      "45it [00:02, 15.21it/s]\n",
      "42it [00:02, 15.60it/s]\n"
     ]
    },
    {
     "name": "stdout",
     "output_type": "stream",
     "text": [
      "Epoch: 2 | Train Loss: 0.2495380 Vali Loss: 0.7095626 Test Loss: 0.6284759 MAE Loss: 0.6090244\n",
      "Updating learning rate to 5e-06\n",
      "Training is done for product 25\n",
      "Starting fine-tuning on product 26\n"
     ]
    },
    {
     "name": "stderr",
     "output_type": "stream",
     "text": [
      "1it [00:00,  1.49it/s]\n"
     ]
    },
    {
     "ename": "OutOfMemoryError",
     "evalue": "CUDA out of memory. Tried to allocate 20.00 MiB. GPU ",
     "output_type": "error",
     "traceback": [
      "\u001b[0;31m---------------------------------------------------------------------------\u001b[0m",
      "\u001b[0;31mOutOfMemoryError\u001b[0m                          Traceback (most recent call last)",
      "\u001b[1;32m/home/user/original/PEA/run_few_shot.ipynb Cell 26\u001b[0m line \u001b[0;36m8\n\u001b[1;32m     <a href='vscode-notebook-cell://80-itg-wkst-wadhah-dahouathi-ew1-pd.cluster-irmp7yabxrbcwwg3sbsvmaa5ew.cloudworkstations.dev/home/user/original/PEA/run_few_shot.ipynb#X44sdnNjb2RlLXJlbW90ZQ%3D%3D?line=80'>81</a>\u001b[0m     outputs \u001b[39m=\u001b[39m model(batch_x, batch_x_mark, dec_inp, batch_y_mark)[\u001b[39m0\u001b[39m]\n\u001b[1;32m     <a href='vscode-notebook-cell://80-itg-wkst-wadhah-dahouathi-ew1-pd.cluster-irmp7yabxrbcwwg3sbsvmaa5ew.cloudworkstations.dev/home/user/original/PEA/run_few_shot.ipynb#X44sdnNjb2RlLXJlbW90ZQ%3D%3D?line=81'>82</a>\u001b[0m \u001b[39melse\u001b[39;00m:\n\u001b[0;32m---> <a href='vscode-notebook-cell://80-itg-wkst-wadhah-dahouathi-ew1-pd.cluster-irmp7yabxrbcwwg3sbsvmaa5ew.cloudworkstations.dev/home/user/original/PEA/run_few_shot.ipynb#X44sdnNjb2RlLXJlbW90ZQ%3D%3D?line=82'>83</a>\u001b[0m     outputs \u001b[39m=\u001b[39m model(batch_x, batch_x_mark, dec_inp, batch_y_mark)\n\u001b[1;32m     <a href='vscode-notebook-cell://80-itg-wkst-wadhah-dahouathi-ew1-pd.cluster-irmp7yabxrbcwwg3sbsvmaa5ew.cloudworkstations.dev/home/user/original/PEA/run_few_shot.ipynb#X44sdnNjb2RlLXJlbW90ZQ%3D%3D?line=84'>85</a>\u001b[0m f_dim \u001b[39m=\u001b[39m \u001b[39m-\u001b[39m\u001b[39m1\u001b[39m \u001b[39mif\u001b[39;00m args\u001b[39m.\u001b[39mfeatures \u001b[39m==\u001b[39m \u001b[39m'\u001b[39m\u001b[39mMS\u001b[39m\u001b[39m'\u001b[39m \u001b[39melse\u001b[39;00m \u001b[39m0\u001b[39m\n\u001b[1;32m     <a href='vscode-notebook-cell://80-itg-wkst-wadhah-dahouathi-ew1-pd.cluster-irmp7yabxrbcwwg3sbsvmaa5ew.cloudworkstations.dev/home/user/original/PEA/run_few_shot.ipynb#X44sdnNjb2RlLXJlbW90ZQ%3D%3D?line=85'>86</a>\u001b[0m outputs \u001b[39m=\u001b[39m outputs[:, \u001b[39m-\u001b[39margs\u001b[39m.\u001b[39mpred_len :, f_dim:]\n",
      "File \u001b[0;32m~/miniconda/envs/gpu/lib/python3.8/site-packages/torch/nn/modules/module.py:1532\u001b[0m, in \u001b[0;36mModule._wrapped_call_impl\u001b[0;34m(self, *args, **kwargs)\u001b[0m\n\u001b[1;32m   1530\u001b[0m     \u001b[39mreturn\u001b[39;00m \u001b[39mself\u001b[39m\u001b[39m.\u001b[39m_compiled_call_impl(\u001b[39m*\u001b[39margs, \u001b[39m*\u001b[39m\u001b[39m*\u001b[39mkwargs)  \u001b[39m# type: ignore[misc]\u001b[39;00m\n\u001b[1;32m   1531\u001b[0m \u001b[39melse\u001b[39;00m:\n\u001b[0;32m-> 1532\u001b[0m     \u001b[39mreturn\u001b[39;00m \u001b[39mself\u001b[39;49m\u001b[39m.\u001b[39;49m_call_impl(\u001b[39m*\u001b[39;49margs, \u001b[39m*\u001b[39;49m\u001b[39m*\u001b[39;49mkwargs)\n",
      "File \u001b[0;32m~/miniconda/envs/gpu/lib/python3.8/site-packages/torch/nn/modules/module.py:1541\u001b[0m, in \u001b[0;36mModule._call_impl\u001b[0;34m(self, *args, **kwargs)\u001b[0m\n\u001b[1;32m   1536\u001b[0m \u001b[39m# If we don't have any hooks, we want to skip the rest of the logic in\u001b[39;00m\n\u001b[1;32m   1537\u001b[0m \u001b[39m# this function, and just call forward.\u001b[39;00m\n\u001b[1;32m   1538\u001b[0m \u001b[39mif\u001b[39;00m \u001b[39mnot\u001b[39;00m (\u001b[39mself\u001b[39m\u001b[39m.\u001b[39m_backward_hooks \u001b[39mor\u001b[39;00m \u001b[39mself\u001b[39m\u001b[39m.\u001b[39m_backward_pre_hooks \u001b[39mor\u001b[39;00m \u001b[39mself\u001b[39m\u001b[39m.\u001b[39m_forward_hooks \u001b[39mor\u001b[39;00m \u001b[39mself\u001b[39m\u001b[39m.\u001b[39m_forward_pre_hooks\n\u001b[1;32m   1539\u001b[0m         \u001b[39mor\u001b[39;00m _global_backward_pre_hooks \u001b[39mor\u001b[39;00m _global_backward_hooks\n\u001b[1;32m   1540\u001b[0m         \u001b[39mor\u001b[39;00m _global_forward_hooks \u001b[39mor\u001b[39;00m _global_forward_pre_hooks):\n\u001b[0;32m-> 1541\u001b[0m     \u001b[39mreturn\u001b[39;00m forward_call(\u001b[39m*\u001b[39;49margs, \u001b[39m*\u001b[39;49m\u001b[39m*\u001b[39;49mkwargs)\n\u001b[1;32m   1543\u001b[0m \u001b[39mtry\u001b[39;00m:\n\u001b[1;32m   1544\u001b[0m     result \u001b[39m=\u001b[39m \u001b[39mNone\u001b[39;00m\n",
      "File \u001b[0;32m~/original/PEA/models/TimeLLM.py:196\u001b[0m, in \u001b[0;36mModel.forward\u001b[0;34m(self, x_enc, x_mark_enc, x_dec, x_mark_dec, mask)\u001b[0m\n\u001b[1;32m    194\u001b[0m \u001b[39mdef\u001b[39;00m \u001b[39mforward\u001b[39m(\u001b[39mself\u001b[39m, x_enc, x_mark_enc, x_dec, x_mark_dec, mask\u001b[39m=\u001b[39m\u001b[39mNone\u001b[39;00m):\n\u001b[1;32m    195\u001b[0m     \u001b[39mif\u001b[39;00m \u001b[39mself\u001b[39m\u001b[39m.\u001b[39mtask_name \u001b[39m==\u001b[39m \u001b[39m'\u001b[39m\u001b[39mlong_term_forecast\u001b[39m\u001b[39m'\u001b[39m \u001b[39mor\u001b[39;00m \u001b[39mself\u001b[39m\u001b[39m.\u001b[39mtask_name \u001b[39m==\u001b[39m \u001b[39m'\u001b[39m\u001b[39mshort_term_forecast\u001b[39m\u001b[39m'\u001b[39m:\n\u001b[0;32m--> 196\u001b[0m         dec_out \u001b[39m=\u001b[39m \u001b[39mself\u001b[39;49m\u001b[39m.\u001b[39;49mforecast(x_enc, x_mark_enc, x_dec, x_mark_dec)\n\u001b[1;32m    197\u001b[0m         \u001b[39mreturn\u001b[39;00m dec_out[:, \u001b[39m-\u001b[39m\u001b[39mself\u001b[39m\u001b[39m.\u001b[39mpred_len:, :]\n\u001b[1;32m    198\u001b[0m     \u001b[39mreturn\u001b[39;00m \u001b[39mNone\u001b[39;00m\n",
      "File \u001b[0;32m~/original/PEA/models/TimeLLM.py:243\u001b[0m, in \u001b[0;36mModel.forecast\u001b[0;34m(self, x_enc, x_mark_enc, x_dec, x_mark_dec)\u001b[0m\n\u001b[1;32m    241\u001b[0m enc_out \u001b[39m=\u001b[39m \u001b[39mself\u001b[39m\u001b[39m.\u001b[39mreprogramming_layer(enc_out, source_embeddings, source_embeddings)\n\u001b[1;32m    242\u001b[0m llama_enc_out \u001b[39m=\u001b[39m torch\u001b[39m.\u001b[39mcat([prompt_embeddings, enc_out], dim\u001b[39m=\u001b[39m\u001b[39m1\u001b[39m)\n\u001b[0;32m--> 243\u001b[0m dec_out \u001b[39m=\u001b[39m \u001b[39mself\u001b[39;49m\u001b[39m.\u001b[39;49mllm_model(inputs_embeds\u001b[39m=\u001b[39;49mllama_enc_out)\u001b[39m.\u001b[39mlast_hidden_state\n\u001b[1;32m    244\u001b[0m dec_out \u001b[39m=\u001b[39m dec_out[:, :, :\u001b[39mself\u001b[39m\u001b[39m.\u001b[39md_ff]\n\u001b[1;32m    246\u001b[0m dec_out \u001b[39m=\u001b[39m torch\u001b[39m.\u001b[39mreshape(\n\u001b[1;32m    247\u001b[0m     dec_out, (\u001b[39m-\u001b[39m\u001b[39m1\u001b[39m, n_vars, dec_out\u001b[39m.\u001b[39mshape[\u001b[39m-\u001b[39m\u001b[39m2\u001b[39m], dec_out\u001b[39m.\u001b[39mshape[\u001b[39m-\u001b[39m\u001b[39m1\u001b[39m]))\n",
      "File \u001b[0;32m~/miniconda/envs/gpu/lib/python3.8/site-packages/torch/nn/modules/module.py:1532\u001b[0m, in \u001b[0;36mModule._wrapped_call_impl\u001b[0;34m(self, *args, **kwargs)\u001b[0m\n\u001b[1;32m   1530\u001b[0m     \u001b[39mreturn\u001b[39;00m \u001b[39mself\u001b[39m\u001b[39m.\u001b[39m_compiled_call_impl(\u001b[39m*\u001b[39margs, \u001b[39m*\u001b[39m\u001b[39m*\u001b[39mkwargs)  \u001b[39m# type: ignore[misc]\u001b[39;00m\n\u001b[1;32m   1531\u001b[0m \u001b[39melse\u001b[39;00m:\n\u001b[0;32m-> 1532\u001b[0m     \u001b[39mreturn\u001b[39;00m \u001b[39mself\u001b[39;49m\u001b[39m.\u001b[39;49m_call_impl(\u001b[39m*\u001b[39;49margs, \u001b[39m*\u001b[39;49m\u001b[39m*\u001b[39;49mkwargs)\n",
      "File \u001b[0;32m~/miniconda/envs/gpu/lib/python3.8/site-packages/torch/nn/modules/module.py:1541\u001b[0m, in \u001b[0;36mModule._call_impl\u001b[0;34m(self, *args, **kwargs)\u001b[0m\n\u001b[1;32m   1536\u001b[0m \u001b[39m# If we don't have any hooks, we want to skip the rest of the logic in\u001b[39;00m\n\u001b[1;32m   1537\u001b[0m \u001b[39m# this function, and just call forward.\u001b[39;00m\n\u001b[1;32m   1538\u001b[0m \u001b[39mif\u001b[39;00m \u001b[39mnot\u001b[39;00m (\u001b[39mself\u001b[39m\u001b[39m.\u001b[39m_backward_hooks \u001b[39mor\u001b[39;00m \u001b[39mself\u001b[39m\u001b[39m.\u001b[39m_backward_pre_hooks \u001b[39mor\u001b[39;00m \u001b[39mself\u001b[39m\u001b[39m.\u001b[39m_forward_hooks \u001b[39mor\u001b[39;00m \u001b[39mself\u001b[39m\u001b[39m.\u001b[39m_forward_pre_hooks\n\u001b[1;32m   1539\u001b[0m         \u001b[39mor\u001b[39;00m _global_backward_pre_hooks \u001b[39mor\u001b[39;00m _global_backward_hooks\n\u001b[1;32m   1540\u001b[0m         \u001b[39mor\u001b[39;00m _global_forward_hooks \u001b[39mor\u001b[39;00m _global_forward_pre_hooks):\n\u001b[0;32m-> 1541\u001b[0m     \u001b[39mreturn\u001b[39;00m forward_call(\u001b[39m*\u001b[39;49margs, \u001b[39m*\u001b[39;49m\u001b[39m*\u001b[39;49mkwargs)\n\u001b[1;32m   1543\u001b[0m \u001b[39mtry\u001b[39;00m:\n\u001b[1;32m   1544\u001b[0m     result \u001b[39m=\u001b[39m \u001b[39mNone\u001b[39;00m\n",
      "File \u001b[0;32m~/miniconda/envs/gpu/lib/python3.8/site-packages/transformers/models/gpt2/modeling_gpt2.py:899\u001b[0m, in \u001b[0;36mGPT2Model.forward\u001b[0;34m(self, input_ids, past_key_values, attention_mask, token_type_ids, position_ids, head_mask, inputs_embeds, encoder_hidden_states, encoder_attention_mask, use_cache, output_attentions, output_hidden_states, return_dict)\u001b[0m\n\u001b[1;32m    889\u001b[0m     outputs \u001b[39m=\u001b[39m torch\u001b[39m.\u001b[39mutils\u001b[39m.\u001b[39mcheckpoint\u001b[39m.\u001b[39mcheckpoint(\n\u001b[1;32m    890\u001b[0m         create_custom_forward(block),\n\u001b[1;32m    891\u001b[0m         hidden_states,\n\u001b[0;32m   (...)\u001b[0m\n\u001b[1;32m    896\u001b[0m         encoder_attention_mask,\n\u001b[1;32m    897\u001b[0m     )\n\u001b[1;32m    898\u001b[0m \u001b[39melse\u001b[39;00m:\n\u001b[0;32m--> 899\u001b[0m     outputs \u001b[39m=\u001b[39m block(\n\u001b[1;32m    900\u001b[0m         hidden_states,\n\u001b[1;32m    901\u001b[0m         layer_past\u001b[39m=\u001b[39;49mlayer_past,\n\u001b[1;32m    902\u001b[0m         attention_mask\u001b[39m=\u001b[39;49mattention_mask,\n\u001b[1;32m    903\u001b[0m         head_mask\u001b[39m=\u001b[39;49mhead_mask[i],\n\u001b[1;32m    904\u001b[0m         encoder_hidden_states\u001b[39m=\u001b[39;49mencoder_hidden_states,\n\u001b[1;32m    905\u001b[0m         encoder_attention_mask\u001b[39m=\u001b[39;49mencoder_attention_mask,\n\u001b[1;32m    906\u001b[0m         use_cache\u001b[39m=\u001b[39;49muse_cache,\n\u001b[1;32m    907\u001b[0m         output_attentions\u001b[39m=\u001b[39;49moutput_attentions,\n\u001b[1;32m    908\u001b[0m     )\n\u001b[1;32m    910\u001b[0m hidden_states \u001b[39m=\u001b[39m outputs[\u001b[39m0\u001b[39m]\n\u001b[1;32m    911\u001b[0m \u001b[39mif\u001b[39;00m use_cache \u001b[39mis\u001b[39;00m \u001b[39mTrue\u001b[39;00m:\n",
      "File \u001b[0;32m~/miniconda/envs/gpu/lib/python3.8/site-packages/torch/nn/modules/module.py:1532\u001b[0m, in \u001b[0;36mModule._wrapped_call_impl\u001b[0;34m(self, *args, **kwargs)\u001b[0m\n\u001b[1;32m   1530\u001b[0m     \u001b[39mreturn\u001b[39;00m \u001b[39mself\u001b[39m\u001b[39m.\u001b[39m_compiled_call_impl(\u001b[39m*\u001b[39margs, \u001b[39m*\u001b[39m\u001b[39m*\u001b[39mkwargs)  \u001b[39m# type: ignore[misc]\u001b[39;00m\n\u001b[1;32m   1531\u001b[0m \u001b[39melse\u001b[39;00m:\n\u001b[0;32m-> 1532\u001b[0m     \u001b[39mreturn\u001b[39;00m \u001b[39mself\u001b[39;49m\u001b[39m.\u001b[39;49m_call_impl(\u001b[39m*\u001b[39;49margs, \u001b[39m*\u001b[39;49m\u001b[39m*\u001b[39;49mkwargs)\n",
      "File \u001b[0;32m~/miniconda/envs/gpu/lib/python3.8/site-packages/torch/nn/modules/module.py:1541\u001b[0m, in \u001b[0;36mModule._call_impl\u001b[0;34m(self, *args, **kwargs)\u001b[0m\n\u001b[1;32m   1536\u001b[0m \u001b[39m# If we don't have any hooks, we want to skip the rest of the logic in\u001b[39;00m\n\u001b[1;32m   1537\u001b[0m \u001b[39m# this function, and just call forward.\u001b[39;00m\n\u001b[1;32m   1538\u001b[0m \u001b[39mif\u001b[39;00m \u001b[39mnot\u001b[39;00m (\u001b[39mself\u001b[39m\u001b[39m.\u001b[39m_backward_hooks \u001b[39mor\u001b[39;00m \u001b[39mself\u001b[39m\u001b[39m.\u001b[39m_backward_pre_hooks \u001b[39mor\u001b[39;00m \u001b[39mself\u001b[39m\u001b[39m.\u001b[39m_forward_hooks \u001b[39mor\u001b[39;00m \u001b[39mself\u001b[39m\u001b[39m.\u001b[39m_forward_pre_hooks\n\u001b[1;32m   1539\u001b[0m         \u001b[39mor\u001b[39;00m _global_backward_pre_hooks \u001b[39mor\u001b[39;00m _global_backward_hooks\n\u001b[1;32m   1540\u001b[0m         \u001b[39mor\u001b[39;00m _global_forward_hooks \u001b[39mor\u001b[39;00m _global_forward_pre_hooks):\n\u001b[0;32m-> 1541\u001b[0m     \u001b[39mreturn\u001b[39;00m forward_call(\u001b[39m*\u001b[39;49margs, \u001b[39m*\u001b[39;49m\u001b[39m*\u001b[39;49mkwargs)\n\u001b[1;32m   1543\u001b[0m \u001b[39mtry\u001b[39;00m:\n\u001b[1;32m   1544\u001b[0m     result \u001b[39m=\u001b[39m \u001b[39mNone\u001b[39;00m\n",
      "File \u001b[0;32m~/miniconda/envs/gpu/lib/python3.8/site-packages/transformers/models/gpt2/modeling_gpt2.py:426\u001b[0m, in \u001b[0;36mGPT2Block.forward\u001b[0;34m(self, hidden_states, layer_past, attention_mask, head_mask, encoder_hidden_states, encoder_attention_mask, use_cache, output_attentions)\u001b[0m\n\u001b[1;32m    424\u001b[0m residual \u001b[39m=\u001b[39m hidden_states\n\u001b[1;32m    425\u001b[0m hidden_states \u001b[39m=\u001b[39m \u001b[39mself\u001b[39m\u001b[39m.\u001b[39mln_2(hidden_states)\n\u001b[0;32m--> 426\u001b[0m feed_forward_hidden_states \u001b[39m=\u001b[39m \u001b[39mself\u001b[39;49m\u001b[39m.\u001b[39;49mmlp(hidden_states)\n\u001b[1;32m    427\u001b[0m \u001b[39m# residual connection\u001b[39;00m\n\u001b[1;32m    428\u001b[0m hidden_states \u001b[39m=\u001b[39m residual \u001b[39m+\u001b[39m feed_forward_hidden_states\n",
      "File \u001b[0;32m~/miniconda/envs/gpu/lib/python3.8/site-packages/torch/nn/modules/module.py:1532\u001b[0m, in \u001b[0;36mModule._wrapped_call_impl\u001b[0;34m(self, *args, **kwargs)\u001b[0m\n\u001b[1;32m   1530\u001b[0m     \u001b[39mreturn\u001b[39;00m \u001b[39mself\u001b[39m\u001b[39m.\u001b[39m_compiled_call_impl(\u001b[39m*\u001b[39margs, \u001b[39m*\u001b[39m\u001b[39m*\u001b[39mkwargs)  \u001b[39m# type: ignore[misc]\u001b[39;00m\n\u001b[1;32m   1531\u001b[0m \u001b[39melse\u001b[39;00m:\n\u001b[0;32m-> 1532\u001b[0m     \u001b[39mreturn\u001b[39;00m \u001b[39mself\u001b[39;49m\u001b[39m.\u001b[39;49m_call_impl(\u001b[39m*\u001b[39;49margs, \u001b[39m*\u001b[39;49m\u001b[39m*\u001b[39;49mkwargs)\n",
      "File \u001b[0;32m~/miniconda/envs/gpu/lib/python3.8/site-packages/torch/nn/modules/module.py:1541\u001b[0m, in \u001b[0;36mModule._call_impl\u001b[0;34m(self, *args, **kwargs)\u001b[0m\n\u001b[1;32m   1536\u001b[0m \u001b[39m# If we don't have any hooks, we want to skip the rest of the logic in\u001b[39;00m\n\u001b[1;32m   1537\u001b[0m \u001b[39m# this function, and just call forward.\u001b[39;00m\n\u001b[1;32m   1538\u001b[0m \u001b[39mif\u001b[39;00m \u001b[39mnot\u001b[39;00m (\u001b[39mself\u001b[39m\u001b[39m.\u001b[39m_backward_hooks \u001b[39mor\u001b[39;00m \u001b[39mself\u001b[39m\u001b[39m.\u001b[39m_backward_pre_hooks \u001b[39mor\u001b[39;00m \u001b[39mself\u001b[39m\u001b[39m.\u001b[39m_forward_hooks \u001b[39mor\u001b[39;00m \u001b[39mself\u001b[39m\u001b[39m.\u001b[39m_forward_pre_hooks\n\u001b[1;32m   1539\u001b[0m         \u001b[39mor\u001b[39;00m _global_backward_pre_hooks \u001b[39mor\u001b[39;00m _global_backward_hooks\n\u001b[1;32m   1540\u001b[0m         \u001b[39mor\u001b[39;00m _global_forward_hooks \u001b[39mor\u001b[39;00m _global_forward_pre_hooks):\n\u001b[0;32m-> 1541\u001b[0m     \u001b[39mreturn\u001b[39;00m forward_call(\u001b[39m*\u001b[39;49margs, \u001b[39m*\u001b[39;49m\u001b[39m*\u001b[39;49mkwargs)\n\u001b[1;32m   1543\u001b[0m \u001b[39mtry\u001b[39;00m:\n\u001b[1;32m   1544\u001b[0m     result \u001b[39m=\u001b[39m \u001b[39mNone\u001b[39;00m\n",
      "File \u001b[0;32m~/miniconda/envs/gpu/lib/python3.8/site-packages/transformers/models/gpt2/modeling_gpt2.py:353\u001b[0m, in \u001b[0;36mGPT2MLP.forward\u001b[0;34m(self, hidden_states)\u001b[0m\n\u001b[1;32m    352\u001b[0m \u001b[39mdef\u001b[39;00m \u001b[39mforward\u001b[39m(\u001b[39mself\u001b[39m, hidden_states: Optional[Tuple[torch\u001b[39m.\u001b[39mFloatTensor]]) \u001b[39m-\u001b[39m\u001b[39m>\u001b[39m torch\u001b[39m.\u001b[39mFloatTensor:\n\u001b[0;32m--> 353\u001b[0m     hidden_states \u001b[39m=\u001b[39m \u001b[39mself\u001b[39;49m\u001b[39m.\u001b[39;49mc_fc(hidden_states)\n\u001b[1;32m    354\u001b[0m     hidden_states \u001b[39m=\u001b[39m \u001b[39mself\u001b[39m\u001b[39m.\u001b[39mact(hidden_states)\n\u001b[1;32m    355\u001b[0m     hidden_states \u001b[39m=\u001b[39m \u001b[39mself\u001b[39m\u001b[39m.\u001b[39mc_proj(hidden_states)\n",
      "File \u001b[0;32m~/miniconda/envs/gpu/lib/python3.8/site-packages/torch/nn/modules/module.py:1532\u001b[0m, in \u001b[0;36mModule._wrapped_call_impl\u001b[0;34m(self, *args, **kwargs)\u001b[0m\n\u001b[1;32m   1530\u001b[0m     \u001b[39mreturn\u001b[39;00m \u001b[39mself\u001b[39m\u001b[39m.\u001b[39m_compiled_call_impl(\u001b[39m*\u001b[39margs, \u001b[39m*\u001b[39m\u001b[39m*\u001b[39mkwargs)  \u001b[39m# type: ignore[misc]\u001b[39;00m\n\u001b[1;32m   1531\u001b[0m \u001b[39melse\u001b[39;00m:\n\u001b[0;32m-> 1532\u001b[0m     \u001b[39mreturn\u001b[39;00m \u001b[39mself\u001b[39;49m\u001b[39m.\u001b[39;49m_call_impl(\u001b[39m*\u001b[39;49margs, \u001b[39m*\u001b[39;49m\u001b[39m*\u001b[39;49mkwargs)\n",
      "File \u001b[0;32m~/miniconda/envs/gpu/lib/python3.8/site-packages/torch/nn/modules/module.py:1541\u001b[0m, in \u001b[0;36mModule._call_impl\u001b[0;34m(self, *args, **kwargs)\u001b[0m\n\u001b[1;32m   1536\u001b[0m \u001b[39m# If we don't have any hooks, we want to skip the rest of the logic in\u001b[39;00m\n\u001b[1;32m   1537\u001b[0m \u001b[39m# this function, and just call forward.\u001b[39;00m\n\u001b[1;32m   1538\u001b[0m \u001b[39mif\u001b[39;00m \u001b[39mnot\u001b[39;00m (\u001b[39mself\u001b[39m\u001b[39m.\u001b[39m_backward_hooks \u001b[39mor\u001b[39;00m \u001b[39mself\u001b[39m\u001b[39m.\u001b[39m_backward_pre_hooks \u001b[39mor\u001b[39;00m \u001b[39mself\u001b[39m\u001b[39m.\u001b[39m_forward_hooks \u001b[39mor\u001b[39;00m \u001b[39mself\u001b[39m\u001b[39m.\u001b[39m_forward_pre_hooks\n\u001b[1;32m   1539\u001b[0m         \u001b[39mor\u001b[39;00m _global_backward_pre_hooks \u001b[39mor\u001b[39;00m _global_backward_hooks\n\u001b[1;32m   1540\u001b[0m         \u001b[39mor\u001b[39;00m _global_forward_hooks \u001b[39mor\u001b[39;00m _global_forward_pre_hooks):\n\u001b[0;32m-> 1541\u001b[0m     \u001b[39mreturn\u001b[39;00m forward_call(\u001b[39m*\u001b[39;49margs, \u001b[39m*\u001b[39;49m\u001b[39m*\u001b[39;49mkwargs)\n\u001b[1;32m   1543\u001b[0m \u001b[39mtry\u001b[39;00m:\n\u001b[1;32m   1544\u001b[0m     result \u001b[39m=\u001b[39m \u001b[39mNone\u001b[39;00m\n",
      "File \u001b[0;32m~/miniconda/envs/gpu/lib/python3.8/site-packages/transformers/pytorch_utils.py:114\u001b[0m, in \u001b[0;36mConv1D.forward\u001b[0;34m(self, x)\u001b[0m\n\u001b[1;32m    112\u001b[0m \u001b[39mdef\u001b[39;00m \u001b[39mforward\u001b[39m(\u001b[39mself\u001b[39m, x):\n\u001b[1;32m    113\u001b[0m     size_out \u001b[39m=\u001b[39m x\u001b[39m.\u001b[39msize()[:\u001b[39m-\u001b[39m\u001b[39m1\u001b[39m] \u001b[39m+\u001b[39m (\u001b[39mself\u001b[39m\u001b[39m.\u001b[39mnf,)\n\u001b[0;32m--> 114\u001b[0m     x \u001b[39m=\u001b[39m torch\u001b[39m.\u001b[39;49maddmm(\u001b[39mself\u001b[39;49m\u001b[39m.\u001b[39;49mbias, x\u001b[39m.\u001b[39;49mview(\u001b[39m-\u001b[39;49m\u001b[39m1\u001b[39;49m, x\u001b[39m.\u001b[39;49msize(\u001b[39m-\u001b[39;49m\u001b[39m1\u001b[39;49m)), \u001b[39mself\u001b[39;49m\u001b[39m.\u001b[39;49mweight)\n\u001b[1;32m    115\u001b[0m     x \u001b[39m=\u001b[39m x\u001b[39m.\u001b[39mview(size_out)\n\u001b[1;32m    116\u001b[0m     \u001b[39mreturn\u001b[39;00m x\n",
      "\u001b[0;31mOutOfMemoryError\u001b[0m: CUDA out of memory. Tried to allocate 20.00 MiB. GPU "
     ]
    }
   ],
   "source": [
    "import gc\n",
    "\n",
    "# Store the initial learning rate separately\n",
    "initial_learning_rate = args.learning_rate\n",
    "\n",
    "for index_product in range(80):\n",
    "    print(\"Starting fine-tuning on product {}\".format(index_product))\n",
    "\n",
    "    data = combined_dataframes[72 * index_product : 72 * (index_product + 1)]\n",
    "    train_data, train_loader = data_provider(args, 'train', data)\n",
    "    vali_data, vali_loader = data_provider(args, 'val', data)\n",
    "    test_data, test_loader = data_provider(args, 'test', data)\n",
    "\n",
    "    time_now = time.time()\n",
    "\n",
    "    train_steps = len(train_loader)\n",
    "    early_stopping = EarlyStopping(accelerator=accelerator, patience=args.patience)\n",
    "\n",
    "    # Reinitialize optimizer and scheduler\n",
    "    trained_parameters = [p for p in model.parameters() if p.requires_grad]\n",
    "    model_optim = optim.Adam(trained_parameters, lr=initial_learning_rate)\n",
    "\n",
    "    if args.lradj == 'COS':\n",
    "        scheduler = torch.optim.lr_scheduler.CosineAnnealingLR(model_optim, T_max=20, eta_min=1e-8)\n",
    "    else:\n",
    "        scheduler = lr_scheduler.OneCycleLR(\n",
    "            optimizer=model_optim,\n",
    "            steps_per_epoch=train_steps,\n",
    "            pct_start=args.pct_start,\n",
    "            epochs=args.train_epochs,\n",
    "            max_lr=initial_learning_rate,\n",
    "        )\n",
    "\n",
    "    # Prepare everything with the new optimizer and scheduler\n",
    "    train_loader, vali_loader, test_loader, model, model_optim, scheduler = accelerator.prepare(\n",
    "        train_loader, vali_loader, test_loader, model, model_optim, scheduler\n",
    "    )\n",
    "\n",
    "    if args.use_amp:\n",
    "        scaler = torch.cuda.amp.GradScaler()\n",
    "\n",
    "    for epoch in range(args.train_epochs):\n",
    "        model.train()\n",
    "        iter_count = 0\n",
    "        train_loss = []\n",
    "        epoch_time = time.time()\n",
    "\n",
    "        for i, (batch_x, batch_y, batch_x_mark, batch_y_mark) in tqdm(enumerate(train_loader)):\n",
    "            iter_count += 1\n",
    "            model_optim.zero_grad()\n",
    "\n",
    "            batch_x = batch_x.float().to(accelerator.device)\n",
    "            batch_y = batch_y.float().to(accelerator.device)\n",
    "            batch_x_mark = batch_x_mark.float().to(accelerator.device)\n",
    "            batch_y_mark = batch_y_mark.float().to(accelerator.device)\n",
    "\n",
    "            # Decoder input\n",
    "            dec_inp = torch.zeros_like(batch_y[:, -args.pred_len :, :]).float().to(accelerator.device)\n",
    "            dec_inp = torch.cat([batch_y[:, :args.label_len, :], dec_inp], dim=1).float().to(accelerator.device)\n",
    "\n",
    "            # Forward pass\n",
    "            if args.use_amp:\n",
    "                with torch.cuda.amp.autocast():\n",
    "                    if args.output_attention:\n",
    "                        outputs = model(batch_x, batch_x_mark, dec_inp, batch_y_mark)[0]\n",
    "                    else:\n",
    "                        outputs = model(batch_x, batch_x_mark, dec_inp, batch_y_mark)\n",
    "\n",
    "                    f_dim = -1 if args.features == 'MS' else 0\n",
    "                    outputs = outputs[:, -args.pred_len :, f_dim:]\n",
    "                    batch_y = batch_y[:, -args.pred_len :, f_dim:]\n",
    "                    loss = criterion(outputs, batch_y)\n",
    "                    train_loss.append(loss.item())\n",
    "\n",
    "                    scaler.scale(loss).backward()\n",
    "                    scaler.step(model_optim)\n",
    "                    scaler.update()\n",
    "            else:\n",
    "                with torch.cuda.amp.autocast():\n",
    "                    if args.output_attention:\n",
    "                        outputs = model(batch_x, batch_x_mark, dec_inp, batch_y_mark)[0]\n",
    "                    else:\n",
    "                        outputs = model(batch_x, batch_x_mark, dec_inp, batch_y_mark)\n",
    "\n",
    "                    f_dim = -1 if args.features == 'MS' else 0\n",
    "                    outputs = outputs[:, -args.pred_len :, f_dim:]\n",
    "                    batch_y = batch_y[:, -args.pred_len :, f_dim:]\n",
    "                    loss = criterion(outputs, batch_y)\n",
    "                    train_loss.append(loss.item())\n",
    "\n",
    "                accelerator.backward(loss)\n",
    "                model_optim.step()\n",
    "\n",
    "            if (i + 1) % 100 == 0:\n",
    "                accelerator.print(\n",
    "                    \"\\titers: {0}, epoch: {1} | loss: {2:.7f}\".format(i + 1, epoch + 1, loss.item())\n",
    "                )\n",
    "                speed = (time.time() - time_now) / iter_count\n",
    "                left_time = speed * ((args.train_epochs - epoch) * train_steps - i)\n",
    "                accelerator.print(\n",
    "                    \"\\tspeed: {:.4f}s/iter; left time: {:.4f}s\".format(speed, left_time)\n",
    "                )\n",
    "                iter_count = 0\n",
    "                time_now = time.time()\n",
    "\n",
    "            if args.lradj == 'TST':\n",
    "                adjust_learning_rate(accelerator, model_optim, scheduler, epoch + 1, args, printout=False)\n",
    "                scheduler.step()\n",
    "\n",
    "        accelerator.print(\"Epoch: {} cost time: {}\".format(epoch + 1, time.time() - epoch_time))\n",
    "        train_loss = np.average(train_loss)\n",
    "        with torch.cuda.amp.autocast():\n",
    "            vali_loss, vali_mae_loss = vali(args, accelerator, model, vali_data, vali_loader, criterion, mae_metric)\n",
    "            test_loss, test_mae_loss = vali(args, accelerator, model, test_data, test_loader, criterion, mae_metric)\n",
    "        accelerator.print(\n",
    "            \"Epoch: {0} | Train Loss: {1:.7f} Vali Loss: {2:.7f} Test Loss: {3:.7f} MAE Loss: {4:.7f}\".format(\n",
    "                epoch + 1, train_loss, vali_loss, test_loss, test_mae_loss\n",
    "            )\n",
    "        )\n",
    "\n",
    "        if args.lradj != 'TST':\n",
    "            if args.lradj == 'COS':\n",
    "                scheduler.step()\n",
    "                accelerator.print(\"lr = {:.10f}\".format(model_optim.param_groups[0][\"lr\"]))\n",
    "            else:\n",
    "                if epoch == 0:\n",
    "                    accelerator.print(\"lr = {:.10f}\".format(model_optim.param_groups[0][\"lr\"]))\n",
    "                adjust_learning_rate(accelerator, model_optim, scheduler, epoch + 1, args, printout=True)\n",
    "        else:\n",
    "            accelerator.print(\"Updating learning rate to {}\".format(scheduler.get_last_lr()[0]))\n",
    "\n",
    "    # Free up GPU memory\n",
    "    del train_data, train_loader, vali_data, vali_loader, test_data, test_loader, dec_inp, batch_x, batch_y, batch_x_mark, batch_y_mark\n",
    "    torch.cuda.empty_cache()\n",
    "    gc.collect()\n",
    "\n",
    "    accelerator.wait_for_everyone()\n",
    "    if accelerator.is_local_main_process:\n",
    "        accelerator.print(\"Training is done for product {}\".format(index_product))"
   ]
  },
  {
   "cell_type": "code",
   "execution_count": null,
   "metadata": {},
   "outputs": [],
   "source": []
  }
 ],
 "metadata": {
  "kernelspec": {
   "display_name": "gpu",
   "language": "python",
   "name": "python3"
  },
  "language_info": {
   "codemirror_mode": {
    "name": "ipython",
    "version": 3
   },
   "file_extension": ".py",
   "mimetype": "text/x-python",
   "name": "python",
   "nbconvert_exporter": "python",
   "pygments_lexer": "ipython3",
   "version": "3.8.19"
  }
 },
 "nbformat": 4,
 "nbformat_minor": 2
}
